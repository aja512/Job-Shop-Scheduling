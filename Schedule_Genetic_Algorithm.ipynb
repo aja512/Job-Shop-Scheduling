{
 "cells": [
  {
   "cell_type": "markdown",
   "metadata": {},
   "source": [
    "# PRODUCTION PLANNING FUNCTION FOR STATIC INITIAL DATASET"
   ]
  },
  {
   "cell_type": "code",
   "execution_count": 1,
   "metadata": {},
   "outputs": [],
   "source": [
    "#importing libraries\n",
    "import pandas as pd\n",
    "import openpyxl as xl\n",
    "import json\n",
    "\n",
    "def data_excel_json(excel_sheet):\n",
    "    \"\"\" convert excel into json \"\"\"\n",
    "    data_excel = xl.load_workbook(excel_sheet)\n",
    "    data = {}\n",
    "    sheet_name = data_excel.sheetnames\n",
    "    for sheet in sheet_name:\n",
    "        wb_sheet = data_excel[sheet]\n",
    "        cell_values = wb_sheet.values\n",
    "        df =  pd.DataFrame(cell_values, columns=next(cell_values))\n",
    "        df.iloc[:, 0] = df.iloc[:, 0].apply(lambda x : x.strip())\n",
    "        df.index = df.iloc[:, 0]\n",
    "        df.drop(columns = df.columns[0], inplace=True)\n",
    "        data[sheet] = df.T.to_dict()\n",
    "    return data\n",
    "\n",
    "def json_to_df(json_data):\n",
    "    \"\"\" convert json into excel \"\"\"\n",
    "    dict_data = {}\n",
    "    for key in json_data.keys():\n",
    "        dict_data[key] = pd.DataFrame(json_data.get(key)).T\n",
    "    return dict_data\n"
   ]
  },
  {
   "cell_type": "markdown",
   "metadata": {},
   "source": [
    "# DEPLOYING GENETIC ALGORITHMS"
   ]
  },
  {
   "cell_type": "code",
   "execution_count": 2,
   "metadata": {},
   "outputs": [],
   "source": [
    "# importing required modules\n",
    "import pandas as pd\n",
    "import numpy as np\n",
    "import matplotlib.pyplot as plt\n",
    "import pandas as pd\n",
    "import chart_studio.plotly as py\n",
    "import plotly.figure_factory as ff\n",
    "import datetime\n",
    "import time\n",
    "import copy\n",
    "\n",
    "\n",
    "def json_to_df(json_data):\n",
    "    \"\"\" convert json into excel \"\"\"\n",
    "    dict_data = {}\n",
    "    for key in json_data.keys():\n",
    "        dict_data[key] = pd.DataFrame(json_data.get(key)).T\n",
    "\n",
    "    return dict_data\n",
    "\n",
    "\n",
    "\n",
    "def generate_initial_population(population_size, num_gene):\n",
    "\n",
    "    \"\"\" generate initial population for Genetic Algorithm \"\"\"\n",
    "\n",
    "    best_list, best_obj = [], []\n",
    "    population_list = []\n",
    "    makespan_record = []\n",
    "    for i in range(population_size):\n",
    "        nxm_random_num = list(np.random.permutation(num_gene)) # generate a random permutation of 0 to num_job*num_mc-1\n",
    "        population_list.append(nxm_random_num) # add to the population_list\n",
    "        for j in range(num_gene):\n",
    "            population_list[i][j] = population_list[i][j] % num_job # convert to job number format, every job appears m times\n",
    "\n",
    "    return population_list\n",
    "\n",
    "\n",
    "\n",
    "def job_schedule(data_dict, population_size = 30, crossover_rate = 0.8, mutation_rate = 0.2, mutation_selection_rate = 0.2, num_iteration = 2000):\n",
    "\n",
    "    \"\"\" initialize genetic algorithm parameters and read data \"\"\"\n",
    "    data_json  = json_to_df(data_dict)\n",
    "    machine_sequence_tmp = data_json['Machines Sequence']\n",
    "    process_time_tmp = data_json['Processing Time']\n",
    "\n",
    "    df_shape = process_time_tmp.shape\n",
    "    num_machines = df_shape[1] # number of machines\n",
    "    num_job = df_shape[0] # number of jobs\n",
    "    num_gene = num_machines * num_job # number of genes in a chromosome\n",
    "    num_mutation_jobs = round(num_gene * mutation_selection_rate)\n",
    "\n",
    "    process_time = [list(map(int, process_time_tmp.iloc[i])) for i in range(num_job)]\n",
    "    machine_sequence = [list(map(int, machine_sequence_tmp.iloc[i])) for i in range(num_job)]\n",
    "    \n",
    "    #start_time = time.time()\n",
    "\n",
    "    Tbest = 999999999999999\n",
    "\n",
    "    best_list, best_obj = [], []\n",
    "    population_list = []\n",
    "    makespan_record = []\n",
    "\n",
    "    for i in range(population_size):\n",
    "        nxm_random_num = list(np.random.permutation(num_gene)) # generate a random permutation of 0 to num_job*num_mc-1\n",
    "        population_list.append(nxm_random_num) # add to the population_list\n",
    "        for j in range(num_gene):\n",
    "            population_list[i][j] = population_list[i][j] % num_job # convert to job number format, every job appears m times\n",
    "    #population_list = generate_initial_population(population_size=population_size, num_gene=num_gene)\n",
    "\n",
    "    for iteration in range(num_iteration):\n",
    "        Tbest_now = 99999999999\n",
    "\n",
    "        \"\"\" Two Point Cross-Over \"\"\"\n",
    "        parent_list = copy.deepcopy(population_list)\n",
    "        offspring_list = copy.deepcopy(population_list) # generate a random sequence to select the parent chromosome to crossover\n",
    "        pop_random_size = list(np.random.permutation(population_size))\n",
    "\n",
    "        for size in range(int(population_size/2)):\n",
    "            crossover_prob = np.random.rand()\n",
    "            if crossover_rate >= crossover_prob:\n",
    "                parent_1 = population_list[pop_random_size[2*size]][:]\n",
    "                parent_2 = population_list[pop_random_size[2*size+1]][:]\n",
    "\n",
    "                child_1 = parent_1[:]\n",
    "                child_2 = parent_2[:]\n",
    "                cutpoint = list(np.random.choice(num_gene, 2, replace=False))\n",
    "                cutpoint.sort()\n",
    "\n",
    "                child_1[cutpoint[0]:cutpoint[1]] = parent_2[cutpoint[0]:cutpoint[1]]\n",
    "                child_2[cutpoint[0]:cutpoint[1]] = parent_1[cutpoint[0]:cutpoint[1]]\n",
    "                offspring_list[pop_random_size[2*size]] = child_1[:]\n",
    "                offspring_list[pop_random_size[2*size+1]] = child_2[:]\n",
    "\n",
    "\n",
    "        for pop in range(population_size):\n",
    "\n",
    "            \"\"\" Repairment \"\"\"\n",
    "            job_count = {}\n",
    "            larger, less = [], [] # 'larger' record jobs appear in the chromosome more than pop times, and 'less' records less than pop times.\n",
    "            for job in range(num_job):\n",
    "                if job in offspring_list[pop]:\n",
    "                    count = offspring_list[pop].count(job)\n",
    "                    pos = offspring_list[pop].index(job)\n",
    "                    job_count[job] = [count, pos] # store the above two values to the job_count dictionary\n",
    "                else:\n",
    "                    count = 0\n",
    "                    job_count[job] = [count, 0]\n",
    "\n",
    "                if count > num_machines:\n",
    "                    larger.append(job)\n",
    "                elif count < num_machines:\n",
    "                    less.append(job)\n",
    "                    \n",
    "            for large in range(len(larger)):\n",
    "                change_job = larger[large]\n",
    "                while job_count[change_job][0] > num_machines:\n",
    "                    for les in range(len(less)):\n",
    "                        if job_count[less[les]][0] < num_machines:                    \n",
    "                            offspring_list[pop][job_count[change_job][1]] = less[les]\n",
    "                            job_count[change_job][1] = offspring_list[pop].index(change_job)\n",
    "                            job_count[change_job][0] = job_count[change_job][0]-1\n",
    "                            job_count[less[les]][0] = job_count[less[les]][0]+1                    \n",
    "                        if job_count[change_job][0] == num_machines:\n",
    "                            break     \n",
    "    \n",
    "\n",
    "        \n",
    "        for off_spring in range(len(offspring_list)):\n",
    "\n",
    "            \"\"\" Mutations \"\"\"\n",
    "            mutation_prob = np.random.rand()\n",
    "            if mutation_rate >= mutation_prob:\n",
    "                m_change = list(np.random.choice(num_gene, num_mutation_jobs, replace=False)) # chooses the position to mutation\n",
    "                t_value_last = offspring_list[off_spring][m_change[0]] # save the value which is on the first mutation position\n",
    "                for i in range(num_mutation_jobs-1):\n",
    "                    offspring_list[off_spring][m_change[i]] = offspring_list[off_spring][m_change[i+1]] # displacement\n",
    "                # move the value of the first mutation position to the last mutation position\n",
    "                offspring_list[off_spring][m_change[num_mutation_jobs-1]] = t_value_last \n",
    "\n",
    "\n",
    "\n",
    "        \"\"\" fitness value (calculate makespan) \"\"\"\n",
    "        total_chromosome = copy.deepcopy(parent_list) + copy.deepcopy(offspring_list) # parent and offspring chromosomes combination\n",
    "        chrom_fitness, chrom_fit = [], []\n",
    "        total_fitness = 0\n",
    "        for pop_size in range(population_size*2):\n",
    "            j_keys = [j for j in range(num_job)]\n",
    "            key_count = {key:0 for key in j_keys}\n",
    "            j_count = {key:0 for key in j_keys}\n",
    "            m_keys = [j+1 for j in range(num_machines)]\n",
    "            m_count = {key:0 for key in m_keys}\n",
    "            \n",
    "            for i in total_chromosome[pop_size]:\n",
    "                gen_t = int(process_time[i][key_count[i]])\n",
    "                gen_m = int(machine_sequence[i][key_count[i]])\n",
    "                j_count[i] = j_count[i] + gen_t\n",
    "                m_count[gen_m] = m_count[gen_m] + gen_t\n",
    "                \n",
    "                if m_count[gen_m] < j_count[i]:\n",
    "                    m_count[gen_m] = j_count[i]\n",
    "                elif m_count[gen_m] > j_count[i]:\n",
    "                    j_count[i] = m_count[gen_m]\n",
    "                \n",
    "                key_count[i] = key_count[i] + 1\n",
    "        \n",
    "            makespan = max(j_count.values())\n",
    "            chrom_fitness.append(1/makespan)\n",
    "            chrom_fit.append(makespan)\n",
    "            total_fitness = total_fitness + chrom_fitness[pop_size]\n",
    "        \n",
    "\n",
    "        \"\"\" Selection (roulette wheel approach) \"\"\"\n",
    "        pk, qk = [], []\n",
    "        \n",
    "        for size in range(population_size * 2):\n",
    "            pk.append(chrom_fitness[size] / total_fitness)\n",
    "        for size in range(population_size * 2):\n",
    "            cumulative = 0\n",
    "\n",
    "            for j in range(0, size+1):\n",
    "                cumulative = cumulative + pk[j]\n",
    "            qk.append(cumulative)\n",
    "        \n",
    "        selection_rand = [np.random.rand() for i in range(population_size)]\n",
    "        \n",
    "        for pop_size in range(population_size):\n",
    "            if selection_rand[pop_size] <= qk[0]:\n",
    "                population_list[pop_size] = copy.deepcopy(total_chromosome[0])\n",
    "            else:\n",
    "                for j in range(0, population_size * 2-1):\n",
    "                    if selection_rand[pop_size] > qk[j] and selection_rand[pop_size] <= qk[j+1]:\n",
    "                        population_list[pop_size] = copy.deepcopy(total_chromosome[j+1])\n",
    "                        break\n",
    "\n",
    "\n",
    "        \"\"\" comparison \"\"\"\n",
    "        for pop_size in range(population_size * 2):\n",
    "            if chrom_fit[pop_size] < Tbest_now:\n",
    "                Tbest_now = chrom_fit[pop_size]\n",
    "                sequence_now = copy.deepcopy(total_chromosome[pop_size])\n",
    "        if Tbest_now <= Tbest:\n",
    "            Tbest = Tbest_now\n",
    "            sequence_best = copy.deepcopy(sequence_now)\n",
    "            \n",
    "        makespan_record.append(Tbest)\n",
    "\n",
    "    \"\"\" Results - Makespan \"\"\"\n",
    "\n",
    "    print(\"optimal sequence\", sequence_best)\n",
    "    print(\"optimal value:%f\"%Tbest)\n",
    "    print(\"\\n\")\n",
    "    #print('the elapsed time:%s'% (time.time() - start_time))\n",
    "\n",
    "    #%matplotlib inline\n",
    "    plt.plot([i for i in range(len(makespan_record))],makespan_record,'b')\n",
    "    plt.ylabel('makespan', fontsize=15)\n",
    "    plt.xlabel('generation', fontsize=15)\n",
    "    plt.show()\n",
    "\n",
    "\n",
    "    \"\"\" plot gantt chart \"\"\"\n",
    "\n",
    "    m_keys = [j+1 for j in range(num_machines)]\n",
    "    j_keys = [j for j in range(num_job)]\n",
    "    key_count = {key:0 for key in j_keys}\n",
    "    j_count = {key:0 for key in j_keys}\n",
    "    m_count = {key:0 for key in m_keys}\n",
    "    j_record = {}\n",
    "    for i in sequence_best:\n",
    "        gen_t = int(process_time[i][key_count[i]])\n",
    "        gen_m = int(machine_sequence[i][key_count[i]])\n",
    "        j_count[i] = j_count[i] + gen_t\n",
    "        m_count[gen_m] = m_count[gen_m] + gen_t\n",
    "\n",
    "        if m_count[gen_m] < j_count[i]:\n",
    "            m_count[gen_m] = j_count[i]\n",
    "        elif m_count[gen_m] > j_count[i]:\n",
    "            j_count[i] = m_count[gen_m]\n",
    "\n",
    "        start_time = str(datetime.timedelta(seconds = j_count[i] - process_time[i][key_count[i]])) # convert seconds to hours, minutes and seconds\n",
    "        end_time = str(datetime.timedelta(seconds = j_count[i]))\n",
    "\n",
    "        j_record[(i, gen_m)] = [start_time, end_time]\n",
    "\n",
    "        key_count[i] = key_count[i] + 1\n",
    "\n",
    "\n",
    "    df = []\n",
    "    for m in m_keys:\n",
    "        for j in j_keys:\n",
    "            df.append(dict(Task='Machine %s'%(m), Start='2020-02-01 %s'%(str(j_record[(j,m)][0])), \\\n",
    "                            Finish='2020-02-01 %s'%(str(j_record[(j,m)][1])),Resource='Job %s'%(j+1)))\n",
    "    \n",
    "    df_ = pd.DataFrame(df)\n",
    "    df_.Start = pd.to_datetime(df_['Start'])\n",
    "    df_.Finish = pd.to_datetime(df_['Finish'])\n",
    "    start = df_.Start.min()\n",
    "    end = df_.Finish.max()\n",
    "\n",
    "    df_.Start = df_.Start.apply(lambda x: x.strftime('%Y-%m-%dT%H:%M:%S'))\n",
    "    df_.Finish = df_.Finish.apply(lambda x: x.strftime('%Y-%m-%dT%H:%M:%S'))\n",
    "    data = df_.to_dict('record')\n",
    "\n",
    "    final_data ={\n",
    "        'start':start.strftime('%Y-%m-%dT%H:%M:%S'),\n",
    "        'end':end.strftime('%Y-%m-%dT%H:%M:%S'),\n",
    "        'data':data}\n",
    "        \n",
    "    fig = ff.create_gantt(df, index_col='Resource', show_colorbar=True, group_tasks=True, showgrid_x=True, title='Job shop Schedule')\n",
    "    fig.show()\n",
    "    #iplot(fig, filename='GA_job_shop_scheduling')\n",
    "    return final_data, df\n"
   ]
  },
  {
   "cell_type": "markdown",
   "metadata": {},
   "source": [
    "# JOB-SHOP SCHEDULING"
   ]
  },
  {
   "cell_type": "code",
   "execution_count": 3,
   "metadata": {},
   "outputs": [
    {
     "name": "stdout",
     "output_type": "stream",
     "text": [
      "optimal sequence [7, 4, 0, 0, 7, 1, 5, 1, 1, 4, 6, 6, 3, 3, 4, 1, 6, 8, 3, 4, 4, 6, 5, 8, 6, 7, 4, 6, 6, 7, 7, 1, 6, 8, 1, 7, 2, 4, 8, 8, 6, 4, 0, 3, 5, 3, 5, 8, 6, 9, 1, 2, 9, 0, 9, 3, 5, 8, 1, 0, 9, 3, 0, 2, 4, 5, 2, 9, 2, 8, 4, 8, 7, 1, 9, 9, 3, 7, 9, 3, 2, 0, 5, 2, 1, 3, 2, 7, 0, 2, 5, 8, 7, 9, 9, 2, 0, 5, 5, 0]\n",
      "optimal value:1154.000000\n",
      "\n",
      "\n"
     ]
    },
    {
     "data": {
      "image/png": "[encoded data removed]",
      "text/plain": [
       "<Figure size 432x288 with 1 Axes>"
      ]
     },
     "metadata": {
      "needs_background": "light"
     },
     "output_type": "display_data"
    },
    {
     "name": "stderr",
     "output_type": "stream",
     "text": [
      "/var/folders/d1/0b_ckbv94b76520jr7j7ydzw0000gn/T/ipykernel_3334/3057518626.py:265: FutureWarning: Using short name for 'orient' is deprecated. Only the options: ('dict', list, 'series', 'split', 'records', 'index') will be used in a future version. Use one of the above to silence this warning.\n",
      "  data = df_.to_dict('record')\n"
     ]
    },
    {
     "data": {
      "application/vnd.plotly.v1+json": {
       "config": {
        "plotlyServerURL": "https://plot.ly"
       },
       "data": [
        {
         "fill": "toself",
         "fillcolor": "rgb(127, 127, 127)",
         "hoverinfo": "name",
         "legendgroup": "rgb(127, 127, 127)",
         "mode": "none",
         "name": "Job 7",
         "showlegend": true,
         "type": "scatter",
         "x": [
          "2020-02-01 0:02:46",
          "2020-02-01 0:03:23",
          "2020-02-01 0:03:23",
          "2020-02-01 0:02:46",
          "2020-02-01 0:02:46",
          "2020-02-01 0:01:47",
          "2020-02-01 0:02:33",
          "2020-02-01 0:02:33",
          "2020-02-01 0:01:47",
          "2020-02-01 0:01:47",
          "2020-02-01 0:05:45",
          "2020-02-01 0:05:58",
          "2020-02-01 0:05:58",
          "2020-02-01 0:05:45",
          "2020-02-01 0:05:45",
          "2020-02-01 0:03:23",
          "2020-02-01 0:04:24",
          "2020-02-01 0:04:24",
          "2020-02-01 0:03:23",
          "2020-02-01 0:03:23",
          "2020-02-01 0:10:16",
          "2020-02-01 0:11:11",
          "2020-02-01 0:11:11",
          "2020-02-01 0:10:16",
          "2020-02-01 0:10:16",
          "2020-02-01 0:06:30",
          "2020-02-01 0:06:51",
          "2020-02-01 0:06:51",
          "2020-02-01 0:06:30",
          "2020-02-01 0:06:30",
          "2020-02-01 0:05:58",
          "2020-02-01 0:06:30",
          "2020-02-01 0:06:30",
          "2020-02-01 0:05:58",
          "2020-02-01 0:05:58",
          "2020-02-01 0:08:52",
          "2020-02-01 0:09:22",
          "2020-02-01 0:09:22",
          "2020-02-01 0:08:52",
          "2020-02-01 0:08:52",
          "2020-02-01 0:07:23",
          "2020-02-01 0:08:52",
          "2020-02-01 0:08:52",
          "2020-02-01 0:07:23",
          "2020-02-01 0:07:23",
          "2020-02-01 0:06:51",
          "2020-02-01 0:07:23",
          "2020-02-01 0:07:23",
          "2020-02-01 0:06:51"
         ],
         "y": [
          8.8,
          8.8,
          9.2,
          9.2,
          null,
          7.8,
          7.8,
          8.2,
          8.2,
          null,
          6.8,
          6.8,
          7.2,
          7.2,
          null,
          5.8,
          5.8,
          6.2,
          6.2,
          null,
          4.8,
          4.8,
          5.2,
          5.2,
          null,
          3.8,
          3.8,
          4.2,
          4.2,
          null,
          2.8,
          2.8,
          3.2,
          3.2,
          null,
          1.8,
          1.8,
          2.2,
          2.2,
          null,
          0.8,
          0.8,
          1.2,
          1.2,
          null,
          -0.2,
          -0.2,
          0.2,
          0.2
         ]
        },
        {
         "fill": "toself",
         "fillcolor": "rgb(140, 86, 75)",
         "hoverinfo": "name",
         "legendgroup": "rgb(140, 86, 75)",
         "mode": "none",
         "name": "Job 5",
         "showlegend": true,
         "type": "scatter",
         "x": [
          "2020-02-01 0:02:40",
          "2020-02-01 0:02:46",
          "2020-02-01 0:02:46",
          "2020-02-01 0:02:40",
          "2020-02-01 0:02:40",
          "2020-02-01 0:03:54",
          "2020-02-01 0:04:16",
          "2020-02-01 0:04:16",
          "2020-02-01 0:03:54",
          "2020-02-01 0:03:54",
          "2020-02-01 0:00:31",
          "2020-02-01 0:00:45",
          "2020-02-01 0:00:45",
          "2020-02-01 0:00:31",
          "2020-02-01 0:00:31",
          "2020-02-01 0:05:17",
          "2020-02-01 0:05:43",
          "2020-02-01 0:05:43",
          "2020-02-01 0:05:17",
          "2020-02-01 0:05:17",
          "2020-02-01 0:05:43",
          "2020-02-01 0:06:52",
          "2020-02-01 0:06:52",
          "2020-02-01 0:05:43",
          "2020-02-01 0:05:43",
          "2020-02-01 0:04:16",
          "2020-02-01 0:05:17",
          "2020-02-01 0:05:17",
          "2020-02-01 0:04:16",
          "2020-02-01 0:04:16",
          "2020-02-01 0:11:58",
          "2020-02-01 0:12:51",
          "2020-02-01 0:12:51",
          "2020-02-01 0:11:58",
          "2020-02-01 0:11:58",
          "2020-02-01 0:09:22",
          "2020-02-01 0:10:11",
          "2020-02-01 0:10:11",
          "2020-02-01 0:09:22",
          "2020-02-01 0:09:22",
          "2020-02-01 0:08:52",
          "2020-02-01 0:09:13",
          "2020-02-01 0:09:13",
          "2020-02-01 0:08:52",
          "2020-02-01 0:08:52",
          "2020-02-01 0:10:35",
          "2020-02-01 0:11:47",
          "2020-02-01 0:11:47",
          "2020-02-01 0:10:35"
         ],
         "y": [
          8.8,
          8.8,
          9.2,
          9.2,
          null,
          7.8,
          7.8,
          8.2,
          8.2,
          null,
          6.8,
          6.8,
          7.2,
          7.2,
          null,
          5.8,
          5.8,
          6.2,
          6.2,
          null,
          4.8,
          4.8,
          5.2,
          5.2,
          null,
          3.8,
          3.8,
          4.2,
          4.2,
          null,
          2.8,
          2.8,
          3.2,
          3.2,
          null,
          1.8,
          1.8,
          2.2,
          2.2,
          null,
          0.8,
          0.8,
          1.2,
          1.2,
          null,
          -0.2,
          -0.2,
          0.2,
          0.2
         ]
        },
        {
         "fill": "toself",
         "fillcolor": "rgb(148, 103, 189)",
         "hoverinfo": "name",
         "legendgroup": "rgb(148, 103, 189)",
         "mode": "none",
         "name": "Job 4",
         "showlegend": true,
         "type": "scatter",
         "x": [
          "2020-02-01 0:05:45",
          "2020-02-01 0:06:56",
          "2020-02-01 0:06:56",
          "2020-02-01 0:05:45",
          "2020-02-01 0:05:45",
          "2020-02-01 0:02:33",
          "2020-02-01 0:03:54",
          "2020-02-01 0:03:54",
          "2020-02-01 0:02:33",
          "2020-02-01 0:02:33",
          "2020-02-01 0:04:10",
          "2020-02-01 0:05:45",
          "2020-02-01 0:05:45",
          "2020-02-01 0:04:10",
          "2020-02-01 0:04:10",
          "2020-02-01 0:12:42",
          "2020-02-01 0:14:20",
          "2020-02-01 0:14:20",
          "2020-02-01 0:12:42",
          "2020-02-01 0:12:42",
          "2020-02-01 0:08:37",
          "2020-02-01 0:10:16",
          "2020-02-01 0:10:16",
          "2020-02-01 0:08:37",
          "2020-02-01 0:08:37",
          "2020-02-01 0:16:54",
          "2020-02-01 0:17:37",
          "2020-02-01 0:17:37",
          "2020-02-01 0:16:54",
          "2020-02-01 0:16:54",
          "2020-02-01 0:10:16",
          "2020-02-01 0:10:25",
          "2020-02-01 0:10:25",
          "2020-02-01 0:10:16",
          "2020-02-01 0:10:16",
          "2020-02-01 0:11:17",
          "2020-02-01 0:12:42",
          "2020-02-01 0:12:42",
          "2020-02-01 0:11:17",
          "2020-02-01 0:11:17",
          "2020-02-01 0:10:25",
          "2020-02-01 0:11:17",
          "2020-02-01 0:11:17",
          "2020-02-01 0:10:25",
          "2020-02-01 0:10:25",
          "2020-02-01 0:16:32",
          "2020-02-01 0:16:54",
          "2020-02-01 0:16:54",
          "2020-02-01 0:16:32"
         ],
         "y": [
          8.8,
          8.8,
          9.2,
          9.2,
          null,
          7.8,
          7.8,
          8.2,
          8.2,
          null,
          6.8,
          6.8,
          7.2,
          7.2,
          null,
          5.8,
          5.8,
          6.2,
          6.2,
          null,
          4.8,
          4.8,
          5.2,
          5.2,
          null,
          3.8,
          3.8,
          4.2,
          4.2,
          null,
          2.8,
          2.8,
          3.2,
          3.2,
          null,
          1.8,
          1.8,
          2.2,
          2.2,
          null,
          0.8,
          0.8,
          1.2,
          1.2,
          null,
          -0.2,
          -0.2,
          0.2,
          0.2
         ]
        },
        {
         "fill": "toself",
         "fillcolor": "rgb(188, 189, 34)",
         "hoverinfo": "name",
         "legendgroup": "rgb(188, 189, 34)",
         "mode": "none",
         "name": "Job 8",
         "showlegend": true,
         "type": "scatter",
         "x": [
          "2020-02-01 0:00:31",
          "2020-02-01 0:01:57",
          "2020-02-01 0:01:57",
          "2020-02-01 0:00:31",
          "2020-02-01 0:00:31",
          "2020-02-01 0:05:48",
          "2020-02-01 0:06:34",
          "2020-02-01 0:06:34",
          "2020-02-01 0:05:48",
          "2020-02-01 0:05:48",
          "2020-02-01 0:00:00",
          "2020-02-01 0:00:31",
          "2020-02-01 0:00:31",
          "2020-02-01 0:00:00",
          "2020-02-01 0:00:00",
          "2020-02-01 0:17:08",
          "2020-02-01 0:18:27",
          "2020-02-01 0:18:27",
          "2020-02-01 0:17:08",
          "2020-02-01 0:17:08",
          "2020-02-01 0:08:05",
          "2020-02-01 0:08:37",
          "2020-02-01 0:08:37",
          "2020-02-01 0:08:05",
          "2020-02-01 0:08:05",
          "2020-02-01 0:06:51",
          "2020-02-01 0:08:05",
          "2020-02-01 0:08:05",
          "2020-02-01 0:06:51",
          "2020-02-01 0:06:51",
          "2020-02-01 0:08:37",
          "2020-02-01 0:10:05",
          "2020-02-01 0:10:05",
          "2020-02-01 0:08:37",
          "2020-02-01 0:08:37",
          "2020-02-01 0:16:32",
          "2020-02-01 0:17:08",
          "2020-02-01 0:17:08",
          "2020-02-01 0:16:32",
          "2020-02-01 0:16:32",
          "2020-02-01 0:15:25",
          "2020-02-01 0:15:44",
          "2020-02-01 0:15:44",
          "2020-02-01 0:15:25",
          "2020-02-01 0:15:25",
          "2020-02-01 0:15:44",
          "2020-02-01 0:16:32",
          "2020-02-01 0:16:32",
          "2020-02-01 0:15:44"
         ],
         "y": [
          8.8,
          8.8,
          9.2,
          9.2,
          null,
          7.8,
          7.8,
          8.2,
          8.2,
          null,
          6.8,
          6.8,
          7.2,
          7.2,
          null,
          5.8,
          5.8,
          6.2,
          6.2,
          null,
          4.8,
          4.8,
          5.2,
          5.2,
          null,
          3.8,
          3.8,
          4.2,
          4.2,
          null,
          2.8,
          2.8,
          3.2,
          3.2,
          null,
          1.8,
          1.8,
          2.2,
          2.2,
          null,
          0.8,
          0.8,
          1.2,
          1.2,
          null,
          -0.2,
          -0.2,
          0.2,
          0.2
         ]
        },
        {
         "fill": "toself",
         "fillcolor": "rgb(214, 39, 40)",
         "hoverinfo": "name",
         "legendgroup": "rgb(214, 39, 40)",
         "mode": "none",
         "name": "Job 3",
         "showlegend": true,
         "type": "scatter",
         "x": [
          "2020-02-01 0:08:51",
          "2020-02-01 0:10:16",
          "2020-02-01 0:10:16",
          "2020-02-01 0:08:51",
          "2020-02-01 0:08:51",
          "2020-02-01 0:07:20",
          "2020-02-01 0:08:51",
          "2020-02-01 0:08:51",
          "2020-02-01 0:07:20",
          "2020-02-01 0:07:20",
          "2020-02-01 0:12:41",
          "2020-02-01 0:13:55",
          "2020-02-01 0:13:55",
          "2020-02-01 0:12:41",
          "2020-02-01 0:12:41",
          "2020-02-01 0:12:02",
          "2020-02-01 0:12:41",
          "2020-02-01 0:12:41",
          "2020-02-01 0:12:02",
          "2020-02-01 0:12:02",
          "2020-02-01 0:18:03",
          "2020-02-01 0:18:36",
          "2020-02-01 0:18:36",
          "2020-02-01 0:18:03",
          "2020-02-01 0:18:03",
          "2020-02-01 0:15:29",
          "2020-02-01 0:15:39",
          "2020-02-01 0:15:39",
          "2020-02-01 0:15:29",
          "2020-02-01 0:15:29",
          "2020-02-01 0:15:49",
          "2020-02-01 0:17:18",
          "2020-02-01 0:17:18",
          "2020-02-01 0:15:49",
          "2020-02-01 0:15:49",
          "2020-02-01 0:15:39",
          "2020-02-01 0:15:49",
          "2020-02-01 0:15:49",
          "2020-02-01 0:15:39",
          "2020-02-01 0:15:39",
          "2020-02-01 0:13:55",
          "2020-02-01 0:15:25",
          "2020-02-01 0:15:25",
          "2020-02-01 0:13:55",
          "2020-02-01 0:13:55",
          "2020-02-01 0:17:18",
          "2020-02-01 0:18:03",
          "2020-02-01 0:18:03",
          "2020-02-01 0:17:18"
         ],
         "y": [
          8.8,
          8.8,
          9.2,
          9.2,
          null,
          7.8,
          7.8,
          8.2,
          8.2,
          null,
          6.8,
          6.8,
          7.2,
          7.2,
          null,
          5.8,
          5.8,
          6.2,
          6.2,
          null,
          4.8,
          4.8,
          5.2,
          5.2,
          null,
          3.8,
          3.8,
          4.2,
          4.2,
          null,
          2.8,
          2.8,
          3.2,
          3.2,
          null,
          1.8,
          1.8,
          2.2,
          2.2,
          null,
          0.8,
          0.8,
          1.2,
          1.2,
          null,
          -0.2,
          -0.2,
          0.2,
          0.2
         ]
        },
        {
         "fill": "toself",
         "fillcolor": "rgb(227, 119, 194)",
         "hoverinfo": "name",
         "legendgroup": "rgb(227, 119, 194)",
         "mode": "none",
         "name": "Job 6",
         "showlegend": true,
         "type": "scatter",
         "x": [
          "2020-02-01 0:13:26",
          "2020-02-01 0:14:13",
          "2020-02-01 0:14:13",
          "2020-02-01 0:13:26",
          "2020-02-01 0:13:26",
          "2020-02-01 0:04:16",
          "2020-02-01 0:04:18",
          "2020-02-01 0:04:18",
          "2020-02-01 0:04:16",
          "2020-02-01 0:04:16",
          "2020-02-01 0:00:45",
          "2020-02-01 0:02:09",
          "2020-02-01 0:02:09",
          "2020-02-01 0:00:45",
          "2020-02-01 0:00:45",
          "2020-02-01 0:09:51",
          "2020-02-01 0:11:26",
          "2020-02-01 0:11:26",
          "2020-02-01 0:09:51",
          "2020-02-01 0:09:51",
          "2020-02-01 0:18:36",
          "2020-02-01 0:18:42",
          "2020-02-01 0:18:42",
          "2020-02-01 0:18:36",
          "2020-02-01 0:18:36",
          "2020-02-01 0:08:59",
          "2020-02-01 0:09:51",
          "2020-02-01 0:09:51",
          "2020-02-01 0:08:59",
          "2020-02-01 0:08:59",
          "2020-02-01 0:17:18",
          "2020-02-01 0:18:23",
          "2020-02-01 0:18:23",
          "2020-02-01 0:17:18",
          "2020-02-01 0:17:18",
          "2020-02-01 0:18:49",
          "2020-02-01 0:19:14",
          "2020-02-01 0:19:14",
          "2020-02-01 0:18:49",
          "2020-02-01 0:18:49",
          "2020-02-01 0:11:26",
          "2020-02-01 0:12:14",
          "2020-02-01 0:12:14",
          "2020-02-01 0:11:26",
          "2020-02-01 0:11:26",
          "2020-02-01 0:12:14",
          "2020-02-01 0:13:26",
          "2020-02-01 0:13:26",
          "2020-02-01 0:12:14"
         ],
         "y": [
          8.8,
          8.8,
          9.2,
          9.2,
          null,
          7.8,
          7.8,
          8.2,
          8.2,
          null,
          6.8,
          6.8,
          7.2,
          7.2,
          null,
          5.8,
          5.8,
          6.2,
          6.2,
          null,
          4.8,
          4.8,
          5.2,
          5.2,
          null,
          3.8,
          3.8,
          4.2,
          4.2,
          null,
          2.8,
          2.8,
          3.2,
          3.2,
          null,
          1.8,
          1.8,
          2.2,
          2.2,
          null,
          0.8,
          0.8,
          1.2,
          1.2,
          null,
          -0.2,
          -0.2,
          0.2,
          0.2
         ]
        },
        {
         "fill": "toself",
         "fillcolor": "rgb(23, 190, 207)",
         "hoverinfo": "name",
         "legendgroup": "rgb(23, 190, 207)",
         "mode": "none",
         "name": "Job 9",
         "showlegend": true,
         "type": "scatter",
         "x": [
          "2020-02-01 0:03:23",
          "2020-02-01 0:04:39",
          "2020-02-01 0:04:39",
          "2020-02-01 0:03:23",
          "2020-02-01 0:03:23",
          "2020-02-01 0:04:39",
          "2020-02-01 0:05:48",
          "2020-02-01 0:05:48",
          "2020-02-01 0:04:39",
          "2020-02-01 0:04:39",
          "2020-02-01 0:08:59",
          "2020-02-01 0:10:24",
          "2020-02-01 0:10:24",
          "2020-02-01 0:08:59",
          "2020-02-01 0:08:59",
          "2020-02-01 0:06:52",
          "2020-02-01 0:08:08",
          "2020-02-01 0:08:08",
          "2020-02-01 0:06:52",
          "2020-02-01 0:06:52",
          "2020-02-01 0:14:11",
          "2020-02-01 0:14:37",
          "2020-02-01 0:14:37",
          "2020-02-01 0:14:11",
          "2020-02-01 0:14:11",
          "2020-02-01 0:08:08",
          "2020-02-01 0:08:59",
          "2020-02-01 0:08:59",
          "2020-02-01 0:08:08",
          "2020-02-01 0:08:08",
          "2020-02-01 0:11:11",
          "2020-02-01 0:11:51",
          "2020-02-01 0:11:51",
          "2020-02-01 0:11:11",
          "2020-02-01 0:11:11",
          "2020-02-01 0:12:42",
          "2020-02-01 0:14:11",
          "2020-02-01 0:14:11",
          "2020-02-01 0:12:42",
          "2020-02-01 0:12:42",
          "2020-02-01 0:16:14",
          "2020-02-01 0:17:28",
          "2020-02-01 0:17:28",
          "2020-02-01 0:16:14",
          "2020-02-01 0:16:14",
          "2020-02-01 0:10:24",
          "2020-02-01 0:10:35",
          "2020-02-01 0:10:35",
          "2020-02-01 0:10:24"
         ],
         "y": [
          8.8,
          8.8,
          9.2,
          9.2,
          null,
          7.8,
          7.8,
          8.2,
          8.2,
          null,
          6.8,
          6.8,
          7.2,
          7.2,
          null,
          5.8,
          5.8,
          6.2,
          6.2,
          null,
          4.8,
          4.8,
          5.2,
          5.2,
          null,
          3.8,
          3.8,
          4.2,
          4.2,
          null,
          2.8,
          2.8,
          3.2,
          3.2,
          null,
          1.8,
          1.8,
          2.2,
          2.2,
          null,
          0.8,
          0.8,
          1.2,
          1.2,
          null,
          -0.2,
          -0.2,
          0.2,
          0.2
         ]
        },
        {
         "fill": "toself",
         "fillcolor": "rgb(255, 127, 14)",
         "hoverinfo": "name",
         "legendgroup": "rgb(255, 127, 14)",
         "mode": "none",
         "name": "Job 10",
         "showlegend": true,
         "type": "scatter",
         "x": [
          "2020-02-01 0:10:16",
          "2020-02-01 0:10:29",
          "2020-02-01 0:10:29",
          "2020-02-01 0:10:16",
          "2020-02-01 0:10:16",
          "2020-02-01 0:08:51",
          "2020-02-01 0:10:16",
          "2020-02-01 0:10:16",
          "2020-02-01 0:08:51",
          "2020-02-01 0:08:51",
          "2020-02-01 0:10:33",
          "2020-02-01 0:11:34",
          "2020-02-01 0:11:34",
          "2020-02-01 0:10:33",
          "2020-02-01 0:10:33",
          "2020-02-01 0:15:29",
          "2020-02-01 0:16:21",
          "2020-02-01 0:16:21",
          "2020-02-01 0:15:29",
          "2020-02-01 0:15:29",
          "2020-02-01 0:16:21",
          "2020-02-01 0:17:51",
          "2020-02-01 0:17:51",
          "2020-02-01 0:16:21",
          "2020-02-01 0:16:21",
          "2020-02-01 0:14:42",
          "2020-02-01 0:15:29",
          "2020-02-01 0:15:29",
          "2020-02-01 0:14:42",
          "2020-02-01 0:14:42",
          "2020-02-01 0:11:51",
          "2020-02-01 0:11:58",
          "2020-02-01 0:11:58",
          "2020-02-01 0:11:51",
          "2020-02-01 0:11:51",
          "2020-02-01 0:18:04",
          "2020-02-01 0:18:49",
          "2020-02-01 0:18:49",
          "2020-02-01 0:18:04",
          "2020-02-01 0:18:04",
          "2020-02-01 0:12:14",
          "2020-02-01 0:13:18",
          "2020-02-01 0:13:18",
          "2020-02-01 0:12:14",
          "2020-02-01 0:12:14",
          "2020-02-01 0:13:26",
          "2020-02-01 0:14:42",
          "2020-02-01 0:14:42",
          "2020-02-01 0:13:26"
         ],
         "y": [
          8.8,
          8.8,
          9.2,
          9.2,
          null,
          7.8,
          7.8,
          8.2,
          8.2,
          null,
          6.8,
          6.8,
          7.2,
          7.2,
          null,
          5.8,
          5.8,
          6.2,
          6.2,
          null,
          4.8,
          4.8,
          5.2,
          5.2,
          null,
          3.8,
          3.8,
          4.2,
          4.2,
          null,
          2.8,
          2.8,
          3.2,
          3.2,
          null,
          1.8,
          1.8,
          2.2,
          2.2,
          null,
          0.8,
          0.8,
          1.2,
          1.2,
          null,
          -0.2,
          -0.2,
          0.2,
          0.2
         ]
        },
        {
         "fill": "toself",
         "fillcolor": "rgb(31, 119, 180)",
         "hoverinfo": "name",
         "legendgroup": "rgb(31, 119, 180)",
         "mode": "none",
         "name": "Job 1",
         "showlegend": true,
         "type": "scatter",
         "x": [
          "2020-02-01 0:00:00",
          "2020-02-01 0:00:29",
          "2020-02-01 0:00:29",
          "2020-02-01 0:00:00",
          "2020-02-01 0:00:00",
          "2020-02-01 0:00:29",
          "2020-02-01 0:01:47",
          "2020-02-01 0:01:47",
          "2020-02-01 0:00:29",
          "2020-02-01 0:00:29",
          "2020-02-01 0:10:24",
          "2020-02-01 0:10:33",
          "2020-02-01 0:10:33",
          "2020-02-01 0:10:24",
          "2020-02-01 0:10:24",
          "2020-02-01 0:11:26",
          "2020-02-01 0:12:02",
          "2020-02-01 0:12:02",
          "2020-02-01 0:11:26",
          "2020-02-01 0:11:26",
          "2020-02-01 0:12:02",
          "2020-02-01 0:12:51",
          "2020-02-01 0:12:51",
          "2020-02-01 0:12:02",
          "2020-02-01 0:12:02",
          "2020-02-01 0:12:51",
          "2020-02-01 0:13:02",
          "2020-02-01 0:13:02",
          "2020-02-01 0:12:51",
          "2020-02-01 0:12:51",
          "2020-02-01 0:13:02",
          "2020-02-01 0:14:04",
          "2020-02-01 0:14:04",
          "2020-02-01 0:13:02",
          "2020-02-01 0:13:02",
          "2020-02-01 0:17:08",
          "2020-02-01 0:18:04",
          "2020-02-01 0:18:04",
          "2020-02-01 0:17:08",
          "2020-02-01 0:17:08",
          "2020-02-01 0:18:04",
          "2020-02-01 0:18:48",
          "2020-02-01 0:18:48",
          "2020-02-01 0:18:04",
          "2020-02-01 0:18:04",
          "2020-02-01 0:18:48",
          "2020-02-01 0:19:09",
          "2020-02-01 0:19:09",
          "2020-02-01 0:18:48"
         ],
         "y": [
          8.8,
          8.8,
          9.2,
          9.2,
          null,
          7.8,
          7.8,
          8.2,
          8.2,
          null,
          6.8,
          6.8,
          7.2,
          7.2,
          null,
          5.8,
          5.8,
          6.2,
          6.2,
          null,
          4.8,
          4.8,
          5.2,
          5.2,
          null,
          3.8,
          3.8,
          4.2,
          4.2,
          null,
          2.8,
          2.8,
          3.2,
          3.2,
          null,
          1.8,
          1.8,
          2.2,
          2.2,
          null,
          0.8,
          0.8,
          1.2,
          1.2,
          null,
          -0.2,
          -0.2,
          0.2,
          0.2
         ]
        },
        {
         "fill": "toself",
         "fillcolor": "rgb(44, 160, 44)",
         "hoverinfo": "name",
         "legendgroup": "rgb(44, 160, 44)",
         "mode": "none",
         "name": "Job 2",
         "showlegend": true,
         "type": "scatter",
         "x": [
          "2020-02-01 0:01:57",
          "2020-02-01 0:02:40",
          "2020-02-01 0:02:40",
          "2020-02-01 0:01:57",
          "2020-02-01 0:01:57",
          "2020-02-01 0:06:52",
          "2020-02-01 0:07:20",
          "2020-02-01 0:07:20",
          "2020-02-01 0:06:52",
          "2020-02-01 0:06:52",
          "2020-02-01 0:02:40",
          "2020-02-01 0:04:10",
          "2020-02-01 0:04:10",
          "2020-02-01 0:02:40",
          "2020-02-01 0:02:40",
          "2020-02-01 0:05:43",
          "2020-02-01 0:06:52",
          "2020-02-01 0:06:52",
          "2020-02-01 0:05:43",
          "2020-02-01 0:05:43",
          "2020-02-01 0:04:10",
          "2020-02-01 0:05:25",
          "2020-02-01 0:05:25",
          "2020-02-01 0:04:10",
          "2020-02-01 0:04:10",
          "2020-02-01 0:11:11",
          "2020-02-01 0:11:57",
          "2020-02-01 0:11:57",
          "2020-02-01 0:11:11",
          "2020-02-01 0:11:11",
          "2020-02-01 0:10:25",
          "2020-02-01 0:11:11",
          "2020-02-01 0:11:11",
          "2020-02-01 0:10:25",
          "2020-02-01 0:10:25",
          "2020-02-01 0:14:11",
          "2020-02-01 0:15:23",
          "2020-02-01 0:15:23",
          "2020-02-01 0:14:11",
          "2020-02-01 0:14:11",
          "2020-02-01 0:15:44",
          "2020-02-01 0:16:14",
          "2020-02-01 0:16:14",
          "2020-02-01 0:15:44",
          "2020-02-01 0:15:44",
          "2020-02-01 0:05:25",
          "2020-02-01 0:05:36",
          "2020-02-01 0:05:36",
          "2020-02-01 0:05:25"
         ],
         "y": [
          8.8,
          8.8,
          9.2,
          9.2,
          null,
          7.8,
          7.8,
          8.2,
          8.2,
          null,
          6.8,
          6.8,
          7.2,
          7.2,
          null,
          5.8,
          5.8,
          6.2,
          6.2,
          null,
          4.8,
          4.8,
          5.2,
          5.2,
          null,
          3.8,
          3.8,
          4.2,
          4.2,
          null,
          2.8,
          2.8,
          3.2,
          3.2,
          null,
          1.8,
          1.8,
          2.2,
          2.2,
          null,
          0.8,
          0.8,
          1.2,
          1.2,
          null,
          -0.2,
          -0.2,
          0.2,
          0.2
         ]
        },
        {
         "legendgroup": "rgb(127, 127, 127)",
         "marker": {
          "color": "rgb(127, 127, 127)",
          "opacity": 0,
          "size": 1
         },
         "mode": "markers",
         "name": "",
         "showlegend": false,
         "text": [
          null,
          null,
          null,
          null,
          null,
          null,
          null,
          null,
          null,
          null,
          null,
          null,
          null,
          null,
          null,
          null,
          null,
          null,
          null,
          null
         ],
         "type": "scatter",
         "x": [
          "2020-02-01 0:02:46",
          "2020-02-01 0:03:23",
          "2020-02-01 0:01:47",
          "2020-02-01 0:02:33",
          "2020-02-01 0:05:45",
          "2020-02-01 0:05:58",
          "2020-02-01 0:03:23",
          "2020-02-01 0:04:24",
          "2020-02-01 0:10:16",
          "2020-02-01 0:11:11",
          "2020-02-01 0:06:30",
          "2020-02-01 0:06:51",
          "2020-02-01 0:05:58",
          "2020-02-01 0:06:30",
          "2020-02-01 0:08:52",
          "2020-02-01 0:09:22",
          "2020-02-01 0:07:23",
          "2020-02-01 0:08:52",
          "2020-02-01 0:06:51",
          "2020-02-01 0:07:23"
         ],
         "y": [
          9,
          9,
          8,
          8,
          7,
          7,
          6,
          6,
          5,
          5,
          4,
          4,
          3,
          3,
          2,
          2,
          1,
          1,
          0,
          0
         ]
        },
        {
         "legendgroup": "rgb(140, 86, 75)",
         "marker": {
          "color": "rgb(140, 86, 75)",
          "opacity": 0,
          "size": 1
         },
         "mode": "markers",
         "name": "",
         "showlegend": false,
         "text": [
          null,
          null,
          null,
          null,
          null,
          null,
          null,
          null,
          null,
          null,
          null,
          null,
          null,
          null,
          null,
          null,
          null,
          null,
          null,
          null
         ],
         "type": "scatter",
         "x": [
          "2020-02-01 0:02:40",
          "2020-02-01 0:02:46",
          "2020-02-01 0:03:54",
          "2020-02-01 0:04:16",
          "2020-02-01 0:00:31",
          "2020-02-01 0:00:45",
          "2020-02-01 0:05:17",
          "2020-02-01 0:05:43",
          "2020-02-01 0:05:43",
          "2020-02-01 0:06:52",
          "2020-02-01 0:04:16",
          "2020-02-01 0:05:17",
          "2020-02-01 0:11:58",
          "2020-02-01 0:12:51",
          "2020-02-01 0:09:22",
          "2020-02-01 0:10:11",
          "2020-02-01 0:08:52",
          "2020-02-01 0:09:13",
          "2020-02-01 0:10:35",
          "2020-02-01 0:11:47"
         ],
         "y": [
          9,
          9,
          8,
          8,
          7,
          7,
          6,
          6,
          5,
          5,
          4,
          4,
          3,
          3,
          2,
          2,
          1,
          1,
          0,
          0
         ]
        },
        {
         "legendgroup": "rgb(148, 103, 189)",
         "marker": {
          "color": "rgb(148, 103, 189)",
          "opacity": 0,
          "size": 1
         },
         "mode": "markers",
         "name": "",
         "showlegend": false,
         "text": [
          null,
          null,
          null,
          null,
          null,
          null,
          null,
          null,
          null,
          null,
          null,
          null,
          null,
          null,
          null,
          null,
          null,
          null,
          null,
          null
         ],
         "type": "scatter",
         "x": [
          "2020-02-01 0:05:45",
          "2020-02-01 0:06:56",
          "2020-02-01 0:02:33",
          "2020-02-01 0:03:54",
          "2020-02-01 0:04:10",
          "2020-02-01 0:05:45",
          "2020-02-01 0:12:42",
          "2020-02-01 0:14:20",
          "2020-02-01 0:08:37",
          "2020-02-01 0:10:16",
          "2020-02-01 0:16:54",
          "2020-02-01 0:17:37",
          "2020-02-01 0:10:16",
          "2020-02-01 0:10:25",
          "2020-02-01 0:11:17",
          "2020-02-01 0:12:42",
          "2020-02-01 0:10:25",
          "2020-02-01 0:11:17",
          "2020-02-01 0:16:32",
          "2020-02-01 0:16:54"
         ],
         "y": [
          9,
          9,
          8,
          8,
          7,
          7,
          6,
          6,
          5,
          5,
          4,
          4,
          3,
          3,
          2,
          2,
          1,
          1,
          0,
          0
         ]
        },
        {
         "legendgroup": "rgb(188, 189, 34)",
         "marker": {
          "color": "rgb(188, 189, 34)",
          "opacity": 0,
          "size": 1
         },
         "mode": "markers",
         "name": "",
         "showlegend": false,
         "text": [
          null,
          null,
          null,
          null,
          null,
          null,
          null,
          null,
          null,
          null,
          null,
          null,
          null,
          null,
          null,
          null,
          null,
          null,
          null,
          null
         ],
         "type": "scatter",
         "x": [
          "2020-02-01 0:00:31",
          "2020-02-01 0:01:57",
          "2020-02-01 0:05:48",
          "2020-02-01 0:06:34",
          "2020-02-01 0:00:00",
          "2020-02-01 0:00:31",
          "2020-02-01 0:17:08",
          "2020-02-01 0:18:27",
          "2020-02-01 0:08:05",
          "2020-02-01 0:08:37",
          "2020-02-01 0:06:51",
          "2020-02-01 0:08:05",
          "2020-02-01 0:08:37",
          "2020-02-01 0:10:05",
          "2020-02-01 0:16:32",
          "2020-02-01 0:17:08",
          "2020-02-01 0:15:25",
          "2020-02-01 0:15:44",
          "2020-02-01 0:15:44",
          "2020-02-01 0:16:32"
         ],
         "y": [
          9,
          9,
          8,
          8,
          7,
          7,
          6,
          6,
          5,
          5,
          4,
          4,
          3,
          3,
          2,
          2,
          1,
          1,
          0,
          0
         ]
        },
        {
         "legendgroup": "rgb(214, 39, 40)",
         "marker": {
          "color": "rgb(214, 39, 40)",
          "opacity": 0,
          "size": 1
         },
         "mode": "markers",
         "name": "",
         "showlegend": false,
         "text": [
          null,
          null,
          null,
          null,
          null,
          null,
          null,
          null,
          null,
          null,
          null,
          null,
          null,
          null,
          null,
          null,
          null,
          null,
          null,
          null
         ],
         "type": "scatter",
         "x": [
          "2020-02-01 0:08:51",
          "2020-02-01 0:10:16",
          "2020-02-01 0:07:20",
          "2020-02-01 0:08:51",
          "2020-02-01 0:12:41",
          "2020-02-01 0:13:55",
          "2020-02-01 0:12:02",
          "2020-02-01 0:12:41",
          "2020-02-01 0:18:03",
          "2020-02-01 0:18:36",
          "2020-02-01 0:15:29",
          "2020-02-01 0:15:39",
          "2020-02-01 0:15:49",
          "2020-02-01 0:17:18",
          "2020-02-01 0:15:39",
          "2020-02-01 0:15:49",
          "2020-02-01 0:13:55",
          "2020-02-01 0:15:25",
          "2020-02-01 0:17:18",
          "2020-02-01 0:18:03"
         ],
         "y": [
          9,
          9,
          8,
          8,
          7,
          7,
          6,
          6,
          5,
          5,
          4,
          4,
          3,
          3,
          2,
          2,
          1,
          1,
          0,
          0
         ]
        },
        {
         "legendgroup": "rgb(227, 119, 194)",
         "marker": {
          "color": "rgb(227, 119, 194)",
          "opacity": 0,
          "size": 1
         },
         "mode": "markers",
         "name": "",
         "showlegend": false,
         "text": [
          null,
          null,
          null,
          null,
          null,
          null,
          null,
          null,
          null,
          null,
          null,
          null,
          null,
          null,
          null,
          null,
          null,
          null,
          null,
          null
         ],
         "type": "scatter",
         "x": [
          "2020-02-01 0:13:26",
          "2020-02-01 0:14:13",
          "2020-02-01 0:04:16",
          "2020-02-01 0:04:18",
          "2020-02-01 0:00:45",
          "2020-02-01 0:02:09",
          "2020-02-01 0:09:51",
          "2020-02-01 0:11:26",
          "2020-02-01 0:18:36",
          "2020-02-01 0:18:42",
          "2020-02-01 0:08:59",
          "2020-02-01 0:09:51",
          "2020-02-01 0:17:18",
          "2020-02-01 0:18:23",
          "2020-02-01 0:18:49",
          "2020-02-01 0:19:14",
          "2020-02-01 0:11:26",
          "2020-02-01 0:12:14",
          "2020-02-01 0:12:14",
          "2020-02-01 0:13:26"
         ],
         "y": [
          9,
          9,
          8,
          8,
          7,
          7,
          6,
          6,
          5,
          5,
          4,
          4,
          3,
          3,
          2,
          2,
          1,
          1,
          0,
          0
         ]
        },
        {
         "legendgroup": "rgb(23, 190, 207)",
         "marker": {
          "color": "rgb(23, 190, 207)",
          "opacity": 0,
          "size": 1
         },
         "mode": "markers",
         "name": "",
         "showlegend": false,
         "text": [
          null,
          null,
          null,
          null,
          null,
          null,
          null,
          null,
          null,
          null,
          null,
          null,
          null,
          null,
          null,
          null,
          null,
          null,
          null,
          null
         ],
         "type": "scatter",
         "x": [
          "2020-02-01 0:03:23",
          "2020-02-01 0:04:39",
          "2020-02-01 0:04:39",
          "2020-02-01 0:05:48",
          "2020-02-01 0:08:59",
          "2020-02-01 0:10:24",
          "2020-02-01 0:06:52",
          "2020-02-01 0:08:08",
          "2020-02-01 0:14:11",
          "2020-02-01 0:14:37",
          "2020-02-01 0:08:08",
          "2020-02-01 0:08:59",
          "2020-02-01 0:11:11",
          "2020-02-01 0:11:51",
          "2020-02-01 0:12:42",
          "2020-02-01 0:14:11",
          "2020-02-01 0:16:14",
          "2020-02-01 0:17:28",
          "2020-02-01 0:10:24",
          "2020-02-01 0:10:35"
         ],
         "y": [
          9,
          9,
          8,
          8,
          7,
          7,
          6,
          6,
          5,
          5,
          4,
          4,
          3,
          3,
          2,
          2,
          1,
          1,
          0,
          0
         ]
        },
        {
         "legendgroup": "rgb(255, 127, 14)",
         "marker": {
          "color": "rgb(255, 127, 14)",
          "opacity": 0,
          "size": 1
         },
         "mode": "markers",
         "name": "",
         "showlegend": false,
         "text": [
          null,
          null,
          null,
          null,
          null,
          null,
          null,
          null,
          null,
          null,
          null,
          null,
          null,
          null,
          null,
          null,
          null,
          null,
          null,
          null
         ],
         "type": "scatter",
         "x": [
          "2020-02-01 0:10:16",
          "2020-02-01 0:10:29",
          "2020-02-01 0:08:51",
          "2020-02-01 0:10:16",
          "2020-02-01 0:10:33",
          "2020-02-01 0:11:34",
          "2020-02-01 0:15:29",
          "2020-02-01 0:16:21",
          "2020-02-01 0:16:21",
          "2020-02-01 0:17:51",
          "2020-02-01 0:14:42",
          "2020-02-01 0:15:29",
          "2020-02-01 0:11:51",
          "2020-02-01 0:11:58",
          "2020-02-01 0:18:04",
          "2020-02-01 0:18:49",
          "2020-02-01 0:12:14",
          "2020-02-01 0:13:18",
          "2020-02-01 0:13:26",
          "2020-02-01 0:14:42"
         ],
         "y": [
          9,
          9,
          8,
          8,
          7,
          7,
          6,
          6,
          5,
          5,
          4,
          4,
          3,
          3,
          2,
          2,
          1,
          1,
          0,
          0
         ]
        },
        {
         "legendgroup": "rgb(31, 119, 180)",
         "marker": {
          "color": "rgb(31, 119, 180)",
          "opacity": 0,
          "size": 1
         },
         "mode": "markers",
         "name": "",
         "showlegend": false,
         "text": [
          null,
          null,
          null,
          null,
          null,
          null,
          null,
          null,
          null,
          null,
          null,
          null,
          null,
          null,
          null,
          null,
          null,
          null,
          null,
          null
         ],
         "type": "scatter",
         "x": [
          "2020-02-01 0:00:00",
          "2020-02-01 0:00:29",
          "2020-02-01 0:00:29",
          "2020-02-01 0:01:47",
          "2020-02-01 0:10:24",
          "2020-02-01 0:10:33",
          "2020-02-01 0:11:26",
          "2020-02-01 0:12:02",
          "2020-02-01 0:12:02",
          "2020-02-01 0:12:51",
          "2020-02-01 0:12:51",
          "2020-02-01 0:13:02",
          "2020-02-01 0:13:02",
          "2020-02-01 0:14:04",
          "2020-02-01 0:17:08",
          "2020-02-01 0:18:04",
          "2020-02-01 0:18:04",
          "2020-02-01 0:18:48",
          "2020-02-01 0:18:48",
          "2020-02-01 0:19:09"
         ],
         "y": [
          9,
          9,
          8,
          8,
          7,
          7,
          6,
          6,
          5,
          5,
          4,
          4,
          3,
          3,
          2,
          2,
          1,
          1,
          0,
          0
         ]
        },
        {
         "legendgroup": "rgb(44, 160, 44)",
         "marker": {
          "color": "rgb(44, 160, 44)",
          "opacity": 0,
          "size": 1
         },
         "mode": "markers",
         "name": "",
         "showlegend": false,
         "text": [
          null,
          null,
          null,
          null,
          null,
          null,
          null,
          null,
          null,
          null,
          null,
          null,
          null,
          null,
          null,
          null,
          null,
          null,
          null,
          null
         ],
         "type": "scatter",
         "x": [
          "2020-02-01 0:01:57",
          "2020-02-01 0:02:40",
          "2020-02-01 0:06:52",
          "2020-02-01 0:07:20",
          "2020-02-01 0:02:40",
          "2020-02-01 0:04:10",
          "2020-02-01 0:05:43",
          "2020-02-01 0:06:52",
          "2020-02-01 0:04:10",
          "2020-02-01 0:05:25",
          "2020-02-01 0:11:11",
          "2020-02-01 0:11:57",
          "2020-02-01 0:10:25",
          "2020-02-01 0:11:11",
          "2020-02-01 0:14:11",
          "2020-02-01 0:15:23",
          "2020-02-01 0:15:44",
          "2020-02-01 0:16:14",
          "2020-02-01 0:05:25",
          "2020-02-01 0:05:36"
         ],
         "y": [
          9,
          9,
          8,
          8,
          7,
          7,
          6,
          6,
          5,
          5,
          4,
          4,
          3,
          3,
          2,
          2,
          1,
          1,
          0,
          0
         ]
        }
       ],
       "layout": {
        "height": 600,
        "hovermode": "closest",
        "showlegend": true,
        "template": {
         "data": {
          "bar": [
           {
            "error_x": {
             "color": "#2a3f5f"
            },
            "error_y": {
             "color": "#2a3f5f"
            },
            "marker": {
             "line": {
              "color": "#E5ECF6",
              "width": 0.5
             },
             "pattern": {
              "fillmode": "overlay",
              "size": 10,
              "solidity": 0.2
             }
            },
            "type": "bar"
           }
          ],
          "barpolar": [
           {
            "marker": {
             "line": {
              "color": "#E5ECF6",
              "width": 0.5
             },
             "pattern": {
              "fillmode": "overlay",
              "size": 10,
              "solidity": 0.2
             }
            },
            "type": "barpolar"
           }
          ],
          "carpet": [
           {
            "aaxis": {
             "endlinecolor": "#2a3f5f",
             "gridcolor": "white",
             "linecolor": "white",
             "minorgridcolor": "white",
             "startlinecolor": "#2a3f5f"
            },
            "baxis": {
             "endlinecolor": "#2a3f5f",
             "gridcolor": "white",
             "linecolor": "white",
             "minorgridcolor": "white",
             "startlinecolor": "#2a3f5f"
            },
            "type": "carpet"
           }
          ],
          "choropleth": [
           {
            "colorbar": {
             "outlinewidth": 0,
             "ticks": ""
            },
            "type": "choropleth"
           }
          ],
          "contour": [
           {
            "colorbar": {
             "outlinewidth": 0,
             "ticks": ""
            },
            "colorscale": [
             [
              0,
              "#0d0887"
             ],
             [
              0.1111111111111111,
              "#46039f"
             ],
             [
              0.2222222222222222,
              "#7201a8"
             ],
             [
              0.3333333333333333,
              "#9c179e"
             ],
             [
              0.4444444444444444,
              "#bd3786"
             ],
             [
              0.5555555555555556,
              "#d8576b"
             ],
             [
              0.6666666666666666,
              "#ed7953"
             ],
             [
              0.7777777777777778,
              "#fb9f3a"
             ],
             [
              0.8888888888888888,
              "#fdca26"
             ],
             [
              1,
              "#f0f921"
             ]
            ],
            "type": "contour"
           }
          ],
          "contourcarpet": [
           {
            "colorbar": {
             "outlinewidth": 0,
             "ticks": ""
            },
            "type": "contourcarpet"
           }
          ],
          "heatmap": [
           {
            "colorbar": {
             "outlinewidth": 0,
             "ticks": ""
            },
            "colorscale": [
             [
              0,
              "#0d0887"
             ],
             [
              0.1111111111111111,
              "#46039f"
             ],
             [
              0.2222222222222222,
              "#7201a8"
             ],
             [
              0.3333333333333333,
              "#9c179e"
             ],
             [
              0.4444444444444444,
              "#bd3786"
             ],
             [
              0.5555555555555556,
              "#d8576b"
             ],
             [
              0.6666666666666666,
              "#ed7953"
             ],
             [
              0.7777777777777778,
              "#fb9f3a"
             ],
             [
              0.8888888888888888,
              "#fdca26"
             ],
             [
              1,
              "#f0f921"
             ]
            ],
            "type": "heatmap"
           }
          ],
          "heatmapgl": [
           {
            "colorbar": {
             "outlinewidth": 0,
             "ticks": ""
            },
            "colorscale": [
             [
              0,
              "#0d0887"
             ],
             [
              0.1111111111111111,
              "#46039f"
             ],
             [
              0.2222222222222222,
              "#7201a8"
             ],
             [
              0.3333333333333333,
              "#9c179e"
             ],
             [
              0.4444444444444444,
              "#bd3786"
             ],
             [
              0.5555555555555556,
              "#d8576b"
             ],
             [
              0.6666666666666666,
              "#ed7953"
             ],
             [
              0.7777777777777778,
              "#fb9f3a"
             ],
             [
              0.8888888888888888,
              "#fdca26"
             ],
             [
              1,
              "#f0f921"
             ]
            ],
            "type": "heatmapgl"
           }
          ],
          "histogram": [
           {
            "marker": {
             "pattern": {
              "fillmode": "overlay",
              "size": 10,
              "solidity": 0.2
             }
            },
            "type": "histogram"
           }
          ],
          "histogram2d": [
           {
            "colorbar": {
             "outlinewidth": 0,
             "ticks": ""
            },
            "colorscale": [
             [
              0,
              "#0d0887"
             ],
             [
              0.1111111111111111,
              "#46039f"
             ],
             [
              0.2222222222222222,
              "#7201a8"
             ],
             [
              0.3333333333333333,
              "#9c179e"
             ],
             [
              0.4444444444444444,
              "#bd3786"
             ],
             [
              0.5555555555555556,
              "#d8576b"
             ],
             [
              0.6666666666666666,
              "#ed7953"
             ],
             [
              0.7777777777777778,
              "#fb9f3a"
             ],
             [
              0.8888888888888888,
              "#fdca26"
             ],
             [
              1,
              "#f0f921"
             ]
            ],
            "type": "histogram2d"
           }
          ],
          "histogram2dcontour": [
           {
            "colorbar": {
             "outlinewidth": 0,
             "ticks": ""
            },
            "colorscale": [
             [
              0,
              "#0d0887"
             ],
             [
              0.1111111111111111,
              "#46039f"
             ],
             [
              0.2222222222222222,
              "#7201a8"
             ],
             [
              0.3333333333333333,
              "#9c179e"
             ],
             [
              0.4444444444444444,
              "#bd3786"
             ],
             [
              0.5555555555555556,
              "#d8576b"
             ],
             [
              0.6666666666666666,
              "#ed7953"
             ],
             [
              0.7777777777777778,
              "#fb9f3a"
             ],
             [
              0.8888888888888888,
              "#fdca26"
             ],
             [
              1,
              "#f0f921"
             ]
            ],
            "type": "histogram2dcontour"
           }
          ],
          "mesh3d": [
           {
            "colorbar": {
             "outlinewidth": 0,
             "ticks": ""
            },
            "type": "mesh3d"
           }
          ],
          "parcoords": [
           {
            "line": {
             "colorbar": {
              "outlinewidth": 0,
              "ticks": ""
             }
            },
            "type": "parcoords"
           }
          ],
          "pie": [
           {
            "automargin": true,
            "type": "pie"
           }
          ],
          "scatter": [
           {
            "marker": {
             "colorbar": {
              "outlinewidth": 0,
              "ticks": ""
             }
            },
            "type": "scatter"
           }
          ],
          "scatter3d": [
           {
            "line": {
             "colorbar": {
              "outlinewidth": 0,
              "ticks": ""
             }
            },
            "marker": {
             "colorbar": {
              "outlinewidth": 0,
              "ticks": ""
             }
            },
            "type": "scatter3d"
           }
          ],
          "scattercarpet": [
           {
            "marker": {
             "colorbar": {
              "outlinewidth": 0,
              "ticks": ""
             }
            },
            "type": "scattercarpet"
           }
          ],
          "scattergeo": [
           {
            "marker": {
             "colorbar": {
              "outlinewidth": 0,
              "ticks": ""
             }
            },
            "type": "scattergeo"
           }
          ],
          "scattergl": [
           {
            "marker": {
             "colorbar": {
              "outlinewidth": 0,
              "ticks": ""
             }
            },
            "type": "scattergl"
           }
          ],
          "scattermapbox": [
           {
            "marker": {
             "colorbar": {
              "outlinewidth": 0,
              "ticks": ""
             }
            },
            "type": "scattermapbox"
           }
          ],
          "scatterpolar": [
           {
            "marker": {
             "colorbar": {
              "outlinewidth": 0,
              "ticks": ""
             }
            },
            "type": "scatterpolar"
           }
          ],
          "scatterpolargl": [
           {
            "marker": {
             "colorbar": {
              "outlinewidth": 0,
              "ticks": ""
             }
            },
            "type": "scatterpolargl"
           }
          ],
          "scatterternary": [
           {
            "marker": {
             "colorbar": {
              "outlinewidth": 0,
              "ticks": ""
             }
            },
            "type": "scatterternary"
           }
          ],
          "surface": [
           {
            "colorbar": {
             "outlinewidth": 0,
             "ticks": ""
            },
            "colorscale": [
             [
              0,
              "#0d0887"
             ],
             [
              0.1111111111111111,
              "#46039f"
             ],
             [
              0.2222222222222222,
              "#7201a8"
             ],
             [
              0.3333333333333333,
              "#9c179e"
             ],
             [
              0.4444444444444444,
              "#bd3786"
             ],
             [
              0.5555555555555556,
              "#d8576b"
             ],
             [
              0.6666666666666666,
              "#ed7953"
             ],
             [
              0.7777777777777778,
              "#fb9f3a"
             ],
             [
              0.8888888888888888,
              "#fdca26"
             ],
             [
              1,
              "#f0f921"
             ]
            ],
            "type": "surface"
           }
          ],
          "table": [
           {
            "cells": {
             "fill": {
              "color": "#EBF0F8"
             },
             "line": {
              "color": "white"
             }
            },
            "header": {
             "fill": {
              "color": "#C8D4E3"
             },
             "line": {
              "color": "white"
             }
            },
            "type": "table"
           }
          ]
         },
         "layout": {
          "annotationdefaults": {
           "arrowcolor": "#2a3f5f",
           "arrowhead": 0,
           "arrowwidth": 1
          },
          "autotypenumbers": "strict",
          "coloraxis": {
           "colorbar": {
            "outlinewidth": 0,
            "ticks": ""
           }
          },
          "colorscale": {
           "diverging": [
            [
             0,
             "#8e0152"
            ],
            [
             0.1,
             "#c51b7d"
            ],
            [
             0.2,
             "#de77ae"
            ],
            [
             0.3,
             "#f1b6da"
            ],
            [
             0.4,
             "#fde0ef"
            ],
            [
             0.5,
             "#f7f7f7"
            ],
            [
             0.6,
             "#e6f5d0"
            ],
            [
             0.7,
             "#b8e186"
            ],
            [
             0.8,
             "#7fbc41"
            ],
            [
             0.9,
             "#4d9221"
            ],
            [
             1,
             "#276419"
            ]
           ],
           "sequential": [
            [
             0,
             "#0d0887"
            ],
            [
             0.1111111111111111,
             "#46039f"
            ],
            [
             0.2222222222222222,
             "#7201a8"
            ],
            [
             0.3333333333333333,
             "#9c179e"
            ],
            [
             0.4444444444444444,
             "#bd3786"
            ],
            [
             0.5555555555555556,
             "#d8576b"
            ],
            [
             0.6666666666666666,
             "#ed7953"
            ],
            [
             0.7777777777777778,
             "#fb9f3a"
            ],
            [
             0.8888888888888888,
             "#fdca26"
            ],
            [
             1,
             "#f0f921"
            ]
           ],
           "sequentialminus": [
            [
             0,
             "#0d0887"
            ],
            [
             0.1111111111111111,
             "#46039f"
            ],
            [
             0.2222222222222222,
             "#7201a8"
            ],
            [
             0.3333333333333333,
             "#9c179e"
            ],
            [
             0.4444444444444444,
             "#bd3786"
            ],
            [
             0.5555555555555556,
             "#d8576b"
            ],
            [
             0.6666666666666666,
             "#ed7953"
            ],
            [
             0.7777777777777778,
             "#fb9f3a"
            ],
            [
             0.8888888888888888,
             "#fdca26"
            ],
            [
             1,
             "#f0f921"
            ]
           ]
          },
          "colorway": [
           "#636efa",
           "#EF553B",
           "#00cc96",
           "#ab63fa",
           "#FFA15A",
           "#19d3f3",
           "#FF6692",
           "#B6E880",
           "#FF97FF",
           "#FECB52"
          ],
          "font": {
           "color": "#2a3f5f"
          },
          "geo": {
           "bgcolor": "white",
           "lakecolor": "white",
           "landcolor": "#E5ECF6",
           "showlakes": true,
           "showland": true,
           "subunitcolor": "white"
          },
          "hoverlabel": {
           "align": "left"
          },
          "hovermode": "closest",
          "mapbox": {
           "style": "light"
          },
          "paper_bgcolor": "white",
          "plot_bgcolor": "#E5ECF6",
          "polar": {
           "angularaxis": {
            "gridcolor": "white",
            "linecolor": "white",
            "ticks": ""
           },
           "bgcolor": "#E5ECF6",
           "radialaxis": {
            "gridcolor": "white",
            "linecolor": "white",
            "ticks": ""
           }
          },
          "scene": {
           "xaxis": {
            "backgroundcolor": "#E5ECF6",
            "gridcolor": "white",
            "gridwidth": 2,
            "linecolor": "white",
            "showbackground": true,
            "ticks": "",
            "zerolinecolor": "white"
           },
           "yaxis": {
            "backgroundcolor": "#E5ECF6",
            "gridcolor": "white",
            "gridwidth": 2,
            "linecolor": "white",
            "showbackground": true,
            "ticks": "",
            "zerolinecolor": "white"
           },
           "zaxis": {
            "backgroundcolor": "#E5ECF6",
            "gridcolor": "white",
            "gridwidth": 2,
            "linecolor": "white",
            "showbackground": true,
            "ticks": "",
            "zerolinecolor": "white"
           }
          },
          "shapedefaults": {
           "line": {
            "color": "#2a3f5f"
           }
          },
          "ternary": {
           "aaxis": {
            "gridcolor": "white",
            "linecolor": "white",
            "ticks": ""
           },
           "baxis": {
            "gridcolor": "white",
            "linecolor": "white",
            "ticks": ""
           },
           "bgcolor": "#E5ECF6",
           "caxis": {
            "gridcolor": "white",
            "linecolor": "white",
            "ticks": ""
           }
          },
          "title": {
           "x": 0.05
          },
          "xaxis": {
           "automargin": true,
           "gridcolor": "white",
           "linecolor": "white",
           "ticks": "",
           "title": {
            "standoff": 15
           },
           "zerolinecolor": "white",
           "zerolinewidth": 2
          },
          "yaxis": {
           "automargin": true,
           "gridcolor": "white",
           "linecolor": "white",
           "ticks": "",
           "title": {
            "standoff": 15
           },
           "zerolinecolor": "white",
           "zerolinewidth": 2
          }
         }
        },
        "title": {
         "text": "Job shop Schedule"
        },
        "xaxis": {
         "rangeselector": {
          "buttons": [
           {
            "count": 7,
            "label": "1w",
            "step": "day",
            "stepmode": "backward"
           },
           {
            "count": 1,
            "label": "1m",
            "step": "month",
            "stepmode": "backward"
           },
           {
            "count": 6,
            "label": "6m",
            "step": "month",
            "stepmode": "backward"
           },
           {
            "count": 1,
            "label": "YTD",
            "step": "year",
            "stepmode": "todate"
           },
           {
            "count": 1,
            "label": "1y",
            "step": "year",
            "stepmode": "backward"
           },
           {
            "step": "all"
           }
          ]
         },
         "showgrid": true,
         "type": "date",
         "zeroline": false
        },
        "yaxis": {
         "autorange": false,
         "range": [
          -1,
          11
         ],
         "showgrid": false,
         "ticktext": [
          "Machine 10",
          "Machine 9",
          "Machine 8",
          "Machine 7",
          "Machine 6",
          "Machine 5",
          "Machine 4",
          "Machine 3",
          "Machine 2",
          "Machine 1"
         ],
         "tickvals": [
          0,
          1,
          2,
          3,
          4,
          5,
          6,
          7,
          8,
          9
         ],
         "zeroline": false
        }
       }
      }
     },
     "metadata": {},
     "output_type": "display_data"
    }
   ],
   "source": [
    "data = data_excel_json('data/JSP_dataset.xlsx')\n",
    "schedule = job_schedule(data_dict=data)\n"
   ]
  },
  {
   "cell_type": "markdown",
   "metadata": {},
   "source": [
    "# JSON to draw gantt chart"
   ]
  },
  {
   "cell_type": "code",
   "execution_count": 4,
   "metadata": {},
   "outputs": [
    {
     "data": {
      "text/plain": [
       "{'start': '2020-02-01T00:00:00',\n",
       " 'end': '2020-02-01T00:19:14',\n",
       " 'data': [{'Task': 'Machine 1',\n",
       "   'Start': '2020-02-01T00:00:00',\n",
       "   'Finish': '2020-02-01T00:00:29',\n",
       "   'Resource': 'Job 1'},\n",
       "  {'Task': 'Machine 1',\n",
       "   'Start': '2020-02-01T00:01:57',\n",
       "   'Finish': '2020-02-01T00:02:40',\n",
       "   'Resource': 'Job 2'},\n",
       "  {'Task': 'Machine 1',\n",
       "   'Start': '2020-02-01T00:08:51',\n",
       "   'Finish': '2020-02-01T00:10:16',\n",
       "   'Resource': 'Job 3'},\n",
       "  {'Task': 'Machine 1',\n",
       "   'Start': '2020-02-01T00:05:45',\n",
       "   'Finish': '2020-02-01T00:06:56',\n",
       "   'Resource': 'Job 4'},\n",
       "  {'Task': 'Machine 1',\n",
       "   'Start': '2020-02-01T00:02:40',\n",
       "   'Finish': '2020-02-01T00:02:46',\n",
       "   'Resource': 'Job 5'},\n",
       "  {'Task': 'Machine 1',\n",
       "   'Start': '2020-02-01T00:13:26',\n",
       "   'Finish': '2020-02-01T00:14:13',\n",
       "   'Resource': 'Job 6'},\n",
       "  {'Task': 'Machine 1',\n",
       "   'Start': '2020-02-01T00:02:46',\n",
       "   'Finish': '2020-02-01T00:03:23',\n",
       "   'Resource': 'Job 7'},\n",
       "  {'Task': 'Machine 1',\n",
       "   'Start': '2020-02-01T00:00:31',\n",
       "   'Finish': '2020-02-01T00:01:57',\n",
       "   'Resource': 'Job 8'},\n",
       "  {'Task': 'Machine 1',\n",
       "   'Start': '2020-02-01T00:03:23',\n",
       "   'Finish': '2020-02-01T00:04:39',\n",
       "   'Resource': 'Job 9'},\n",
       "  {'Task': 'Machine 1',\n",
       "   'Start': '2020-02-01T00:10:16',\n",
       "   'Finish': '2020-02-01T00:10:29',\n",
       "   'Resource': 'Job 10'},\n",
       "  {'Task': 'Machine 2',\n",
       "   'Start': '2020-02-01T00:00:29',\n",
       "   'Finish': '2020-02-01T00:01:47',\n",
       "   'Resource': 'Job 1'},\n",
       "  {'Task': 'Machine 2',\n",
       "   'Start': '2020-02-01T00:06:52',\n",
       "   'Finish': '2020-02-01T00:07:20',\n",
       "   'Resource': 'Job 2'},\n",
       "  {'Task': 'Machine 2',\n",
       "   'Start': '2020-02-01T00:07:20',\n",
       "   'Finish': '2020-02-01T00:08:51',\n",
       "   'Resource': 'Job 3'},\n",
       "  {'Task': 'Machine 2',\n",
       "   'Start': '2020-02-01T00:02:33',\n",
       "   'Finish': '2020-02-01T00:03:54',\n",
       "   'Resource': 'Job 4'},\n",
       "  {'Task': 'Machine 2',\n",
       "   'Start': '2020-02-01T00:03:54',\n",
       "   'Finish': '2020-02-01T00:04:16',\n",
       "   'Resource': 'Job 5'},\n",
       "  {'Task': 'Machine 2',\n",
       "   'Start': '2020-02-01T00:04:16',\n",
       "   'Finish': '2020-02-01T00:04:18',\n",
       "   'Resource': 'Job 6'},\n",
       "  {'Task': 'Machine 2',\n",
       "   'Start': '2020-02-01T00:01:47',\n",
       "   'Finish': '2020-02-01T00:02:33',\n",
       "   'Resource': 'Job 7'},\n",
       "  {'Task': 'Machine 2',\n",
       "   'Start': '2020-02-01T00:05:48',\n",
       "   'Finish': '2020-02-01T00:06:34',\n",
       "   'Resource': 'Job 8'},\n",
       "  {'Task': 'Machine 2',\n",
       "   'Start': '2020-02-01T00:04:39',\n",
       "   'Finish': '2020-02-01T00:05:48',\n",
       "   'Resource': 'Job 9'},\n",
       "  {'Task': 'Machine 2',\n",
       "   'Start': '2020-02-01T00:08:51',\n",
       "   'Finish': '2020-02-01T00:10:16',\n",
       "   'Resource': 'Job 10'},\n",
       "  {'Task': 'Machine 3',\n",
       "   'Start': '2020-02-01T00:10:24',\n",
       "   'Finish': '2020-02-01T00:10:33',\n",
       "   'Resource': 'Job 1'},\n",
       "  {'Task': 'Machine 3',\n",
       "   'Start': '2020-02-01T00:02:40',\n",
       "   'Finish': '2020-02-01T00:04:10',\n",
       "   'Resource': 'Job 2'},\n",
       "  {'Task': 'Machine 3',\n",
       "   'Start': '2020-02-01T00:12:41',\n",
       "   'Finish': '2020-02-01T00:13:55',\n",
       "   'Resource': 'Job 3'},\n",
       "  {'Task': 'Machine 3',\n",
       "   'Start': '2020-02-01T00:04:10',\n",
       "   'Finish': '2020-02-01T00:05:45',\n",
       "   'Resource': 'Job 4'},\n",
       "  {'Task': 'Machine 3',\n",
       "   'Start': '2020-02-01T00:00:31',\n",
       "   'Finish': '2020-02-01T00:00:45',\n",
       "   'Resource': 'Job 5'},\n",
       "  {'Task': 'Machine 3',\n",
       "   'Start': '2020-02-01T00:00:45',\n",
       "   'Finish': '2020-02-01T00:02:09',\n",
       "   'Resource': 'Job 6'},\n",
       "  {'Task': 'Machine 3',\n",
       "   'Start': '2020-02-01T00:05:45',\n",
       "   'Finish': '2020-02-01T00:05:58',\n",
       "   'Resource': 'Job 7'},\n",
       "  {'Task': 'Machine 3',\n",
       "   'Start': '2020-02-01T00:00:00',\n",
       "   'Finish': '2020-02-01T00:00:31',\n",
       "   'Resource': 'Job 8'},\n",
       "  {'Task': 'Machine 3',\n",
       "   'Start': '2020-02-01T00:08:59',\n",
       "   'Finish': '2020-02-01T00:10:24',\n",
       "   'Resource': 'Job 9'},\n",
       "  {'Task': 'Machine 3',\n",
       "   'Start': '2020-02-01T00:10:33',\n",
       "   'Finish': '2020-02-01T00:11:34',\n",
       "   'Resource': 'Job 10'},\n",
       "  {'Task': 'Machine 4',\n",
       "   'Start': '2020-02-01T00:11:26',\n",
       "   'Finish': '2020-02-01T00:12:02',\n",
       "   'Resource': 'Job 1'},\n",
       "  {'Task': 'Machine 4',\n",
       "   'Start': '2020-02-01T00:05:43',\n",
       "   'Finish': '2020-02-01T00:06:52',\n",
       "   'Resource': 'Job 2'},\n",
       "  {'Task': 'Machine 4',\n",
       "   'Start': '2020-02-01T00:12:02',\n",
       "   'Finish': '2020-02-01T00:12:41',\n",
       "   'Resource': 'Job 3'},\n",
       "  {'Task': 'Machine 4',\n",
       "   'Start': '2020-02-01T00:12:42',\n",
       "   'Finish': '2020-02-01T00:14:20',\n",
       "   'Resource': 'Job 4'},\n",
       "  {'Task': 'Machine 4',\n",
       "   'Start': '2020-02-01T00:05:17',\n",
       "   'Finish': '2020-02-01T00:05:43',\n",
       "   'Resource': 'Job 5'},\n",
       "  {'Task': 'Machine 4',\n",
       "   'Start': '2020-02-01T00:09:51',\n",
       "   'Finish': '2020-02-01T00:11:26',\n",
       "   'Resource': 'Job 6'},\n",
       "  {'Task': 'Machine 4',\n",
       "   'Start': '2020-02-01T00:03:23',\n",
       "   'Finish': '2020-02-01T00:04:24',\n",
       "   'Resource': 'Job 7'},\n",
       "  {'Task': 'Machine 4',\n",
       "   'Start': '2020-02-01T00:17:08',\n",
       "   'Finish': '2020-02-01T00:18:27',\n",
       "   'Resource': 'Job 8'},\n",
       "  {'Task': 'Machine 4',\n",
       "   'Start': '2020-02-01T00:06:52',\n",
       "   'Finish': '2020-02-01T00:08:08',\n",
       "   'Resource': 'Job 9'},\n",
       "  {'Task': 'Machine 4',\n",
       "   'Start': '2020-02-01T00:15:29',\n",
       "   'Finish': '2020-02-01T00:16:21',\n",
       "   'Resource': 'Job 10'},\n",
       "  {'Task': 'Machine 5',\n",
       "   'Start': '2020-02-01T00:12:02',\n",
       "   'Finish': '2020-02-01T00:12:51',\n",
       "   'Resource': 'Job 1'},\n",
       "  {'Task': 'Machine 5',\n",
       "   'Start': '2020-02-01T00:04:10',\n",
       "   'Finish': '2020-02-01T00:05:25',\n",
       "   'Resource': 'Job 2'},\n",
       "  {'Task': 'Machine 5',\n",
       "   'Start': '2020-02-01T00:18:03',\n",
       "   'Finish': '2020-02-01T00:18:36',\n",
       "   'Resource': 'Job 3'},\n",
       "  {'Task': 'Machine 5',\n",
       "   'Start': '2020-02-01T00:08:37',\n",
       "   'Finish': '2020-02-01T00:10:16',\n",
       "   'Resource': 'Job 4'},\n",
       "  {'Task': 'Machine 5',\n",
       "   'Start': '2020-02-01T00:05:43',\n",
       "   'Finish': '2020-02-01T00:06:52',\n",
       "   'Resource': 'Job 5'},\n",
       "  {'Task': 'Machine 5',\n",
       "   'Start': '2020-02-01T00:18:36',\n",
       "   'Finish': '2020-02-01T00:18:42',\n",
       "   'Resource': 'Job 6'},\n",
       "  {'Task': 'Machine 5',\n",
       "   'Start': '2020-02-01T00:10:16',\n",
       "   'Finish': '2020-02-01T00:11:11',\n",
       "   'Resource': 'Job 7'},\n",
       "  {'Task': 'Machine 5',\n",
       "   'Start': '2020-02-01T00:08:05',\n",
       "   'Finish': '2020-02-01T00:08:37',\n",
       "   'Resource': 'Job 8'},\n",
       "  {'Task': 'Machine 5',\n",
       "   'Start': '2020-02-01T00:14:11',\n",
       "   'Finish': '2020-02-01T00:14:37',\n",
       "   'Resource': 'Job 9'},\n",
       "  {'Task': 'Machine 5',\n",
       "   'Start': '2020-02-01T00:16:21',\n",
       "   'Finish': '2020-02-01T00:17:51',\n",
       "   'Resource': 'Job 10'},\n",
       "  {'Task': 'Machine 6',\n",
       "   'Start': '2020-02-01T00:12:51',\n",
       "   'Finish': '2020-02-01T00:13:02',\n",
       "   'Resource': 'Job 1'},\n",
       "  {'Task': 'Machine 6',\n",
       "   'Start': '2020-02-01T00:11:11',\n",
       "   'Finish': '2020-02-01T00:11:57',\n",
       "   'Resource': 'Job 2'},\n",
       "  {'Task': 'Machine 6',\n",
       "   'Start': '2020-02-01T00:15:29',\n",
       "   'Finish': '2020-02-01T00:15:39',\n",
       "   'Resource': 'Job 3'},\n",
       "  {'Task': 'Machine 6',\n",
       "   'Start': '2020-02-01T00:16:54',\n",
       "   'Finish': '2020-02-01T00:17:37',\n",
       "   'Resource': 'Job 4'},\n",
       "  {'Task': 'Machine 6',\n",
       "   'Start': '2020-02-01T00:04:16',\n",
       "   'Finish': '2020-02-01T00:05:17',\n",
       "   'Resource': 'Job 5'},\n",
       "  {'Task': 'Machine 6',\n",
       "   'Start': '2020-02-01T00:08:59',\n",
       "   'Finish': '2020-02-01T00:09:51',\n",
       "   'Resource': 'Job 6'},\n",
       "  {'Task': 'Machine 6',\n",
       "   'Start': '2020-02-01T00:06:30',\n",
       "   'Finish': '2020-02-01T00:06:51',\n",
       "   'Resource': 'Job 7'},\n",
       "  {'Task': 'Machine 6',\n",
       "   'Start': '2020-02-01T00:06:51',\n",
       "   'Finish': '2020-02-01T00:08:05',\n",
       "   'Resource': 'Job 8'},\n",
       "  {'Task': 'Machine 6',\n",
       "   'Start': '2020-02-01T00:08:08',\n",
       "   'Finish': '2020-02-01T00:08:59',\n",
       "   'Resource': 'Job 9'},\n",
       "  {'Task': 'Machine 6',\n",
       "   'Start': '2020-02-01T00:14:42',\n",
       "   'Finish': '2020-02-01T00:15:29',\n",
       "   'Resource': 'Job 10'},\n",
       "  {'Task': 'Machine 7',\n",
       "   'Start': '2020-02-01T00:13:02',\n",
       "   'Finish': '2020-02-01T00:14:04',\n",
       "   'Resource': 'Job 1'},\n",
       "  {'Task': 'Machine 7',\n",
       "   'Start': '2020-02-01T00:10:25',\n",
       "   'Finish': '2020-02-01T00:11:11',\n",
       "   'Resource': 'Job 2'},\n",
       "  {'Task': 'Machine 7',\n",
       "   'Start': '2020-02-01T00:15:49',\n",
       "   'Finish': '2020-02-01T00:17:18',\n",
       "   'Resource': 'Job 3'},\n",
       "  {'Task': 'Machine 7',\n",
       "   'Start': '2020-02-01T00:10:16',\n",
       "   'Finish': '2020-02-01T00:10:25',\n",
       "   'Resource': 'Job 4'},\n",
       "  {'Task': 'Machine 7',\n",
       "   'Start': '2020-02-01T00:11:58',\n",
       "   'Finish': '2020-02-01T00:12:51',\n",
       "   'Resource': 'Job 5'},\n",
       "  {'Task': 'Machine 7',\n",
       "   'Start': '2020-02-01T00:17:18',\n",
       "   'Finish': '2020-02-01T00:18:23',\n",
       "   'Resource': 'Job 6'},\n",
       "  {'Task': 'Machine 7',\n",
       "   'Start': '2020-02-01T00:05:58',\n",
       "   'Finish': '2020-02-01T00:06:30',\n",
       "   'Resource': 'Job 7'},\n",
       "  {'Task': 'Machine 7',\n",
       "   'Start': '2020-02-01T00:08:37',\n",
       "   'Finish': '2020-02-01T00:10:05',\n",
       "   'Resource': 'Job 8'},\n",
       "  {'Task': 'Machine 7',\n",
       "   'Start': '2020-02-01T00:11:11',\n",
       "   'Finish': '2020-02-01T00:11:51',\n",
       "   'Resource': 'Job 9'},\n",
       "  {'Task': 'Machine 7',\n",
       "   'Start': '2020-02-01T00:11:51',\n",
       "   'Finish': '2020-02-01T00:11:58',\n",
       "   'Resource': 'Job 10'},\n",
       "  {'Task': 'Machine 8',\n",
       "   'Start': '2020-02-01T00:17:08',\n",
       "   'Finish': '2020-02-01T00:18:04',\n",
       "   'Resource': 'Job 1'},\n",
       "  {'Task': 'Machine 8',\n",
       "   'Start': '2020-02-01T00:14:11',\n",
       "   'Finish': '2020-02-01T00:15:23',\n",
       "   'Resource': 'Job 2'},\n",
       "  {'Task': 'Machine 8',\n",
       "   'Start': '2020-02-01T00:15:39',\n",
       "   'Finish': '2020-02-01T00:15:49',\n",
       "   'Resource': 'Job 3'},\n",
       "  {'Task': 'Machine 8',\n",
       "   'Start': '2020-02-01T00:11:17',\n",
       "   'Finish': '2020-02-01T00:12:42',\n",
       "   'Resource': 'Job 4'},\n",
       "  {'Task': 'Machine 8',\n",
       "   'Start': '2020-02-01T00:09:22',\n",
       "   'Finish': '2020-02-01T00:10:11',\n",
       "   'Resource': 'Job 5'},\n",
       "  {'Task': 'Machine 8',\n",
       "   'Start': '2020-02-01T00:18:49',\n",
       "   'Finish': '2020-02-01T00:19:14',\n",
       "   'Resource': 'Job 6'},\n",
       "  {'Task': 'Machine 8',\n",
       "   'Start': '2020-02-01T00:08:52',\n",
       "   'Finish': '2020-02-01T00:09:22',\n",
       "   'Resource': 'Job 7'},\n",
       "  {'Task': 'Machine 8',\n",
       "   'Start': '2020-02-01T00:16:32',\n",
       "   'Finish': '2020-02-01T00:17:08',\n",
       "   'Resource': 'Job 8'},\n",
       "  {'Task': 'Machine 8',\n",
       "   'Start': '2020-02-01T00:12:42',\n",
       "   'Finish': '2020-02-01T00:14:11',\n",
       "   'Resource': 'Job 9'},\n",
       "  {'Task': 'Machine 8',\n",
       "   'Start': '2020-02-01T00:18:04',\n",
       "   'Finish': '2020-02-01T00:18:49',\n",
       "   'Resource': 'Job 10'},\n",
       "  {'Task': 'Machine 9',\n",
       "   'Start': '2020-02-01T00:18:04',\n",
       "   'Finish': '2020-02-01T00:18:48',\n",
       "   'Resource': 'Job 1'},\n",
       "  {'Task': 'Machine 9',\n",
       "   'Start': '2020-02-01T00:15:44',\n",
       "   'Finish': '2020-02-01T00:16:14',\n",
       "   'Resource': 'Job 2'},\n",
       "  {'Task': 'Machine 9',\n",
       "   'Start': '2020-02-01T00:13:55',\n",
       "   'Finish': '2020-02-01T00:15:25',\n",
       "   'Resource': 'Job 3'},\n",
       "  {'Task': 'Machine 9',\n",
       "   'Start': '2020-02-01T00:10:25',\n",
       "   'Finish': '2020-02-01T00:11:17',\n",
       "   'Resource': 'Job 4'},\n",
       "  {'Task': 'Machine 9',\n",
       "   'Start': '2020-02-01T00:08:52',\n",
       "   'Finish': '2020-02-01T00:09:13',\n",
       "   'Resource': 'Job 5'},\n",
       "  {'Task': 'Machine 9',\n",
       "   'Start': '2020-02-01T00:11:26',\n",
       "   'Finish': '2020-02-01T00:12:14',\n",
       "   'Resource': 'Job 6'},\n",
       "  {'Task': 'Machine 9',\n",
       "   'Start': '2020-02-01T00:07:23',\n",
       "   'Finish': '2020-02-01T00:08:52',\n",
       "   'Resource': 'Job 7'},\n",
       "  {'Task': 'Machine 9',\n",
       "   'Start': '2020-02-01T00:15:25',\n",
       "   'Finish': '2020-02-01T00:15:44',\n",
       "   'Resource': 'Job 8'},\n",
       "  {'Task': 'Machine 9',\n",
       "   'Start': '2020-02-01T00:16:14',\n",
       "   'Finish': '2020-02-01T00:17:28',\n",
       "   'Resource': 'Job 9'},\n",
       "  {'Task': 'Machine 9',\n",
       "   'Start': '2020-02-01T00:12:14',\n",
       "   'Finish': '2020-02-01T00:13:18',\n",
       "   'Resource': 'Job 10'},\n",
       "  {'Task': 'Machine 10',\n",
       "   'Start': '2020-02-01T00:18:48',\n",
       "   'Finish': '2020-02-01T00:19:09',\n",
       "   'Resource': 'Job 1'},\n",
       "  {'Task': 'Machine 10',\n",
       "   'Start': '2020-02-01T00:05:25',\n",
       "   'Finish': '2020-02-01T00:05:36',\n",
       "   'Resource': 'Job 2'},\n",
       "  {'Task': 'Machine 10',\n",
       "   'Start': '2020-02-01T00:17:18',\n",
       "   'Finish': '2020-02-01T00:18:03',\n",
       "   'Resource': 'Job 3'},\n",
       "  {'Task': 'Machine 10',\n",
       "   'Start': '2020-02-01T00:16:32',\n",
       "   'Finish': '2020-02-01T00:16:54',\n",
       "   'Resource': 'Job 4'},\n",
       "  {'Task': 'Machine 10',\n",
       "   'Start': '2020-02-01T00:10:35',\n",
       "   'Finish': '2020-02-01T00:11:47',\n",
       "   'Resource': 'Job 5'},\n",
       "  {'Task': 'Machine 10',\n",
       "   'Start': '2020-02-01T00:12:14',\n",
       "   'Finish': '2020-02-01T00:13:26',\n",
       "   'Resource': 'Job 6'},\n",
       "  {'Task': 'Machine 10',\n",
       "   'Start': '2020-02-01T00:06:51',\n",
       "   'Finish': '2020-02-01T00:07:23',\n",
       "   'Resource': 'Job 7'},\n",
       "  {'Task': 'Machine 10',\n",
       "   'Start': '2020-02-01T00:15:44',\n",
       "   'Finish': '2020-02-01T00:16:32',\n",
       "   'Resource': 'Job 8'},\n",
       "  {'Task': 'Machine 10',\n",
       "   'Start': '2020-02-01T00:10:24',\n",
       "   'Finish': '2020-02-01T00:10:35',\n",
       "   'Resource': 'Job 9'},\n",
       "  {'Task': 'Machine 10',\n",
       "   'Start': '2020-02-01T00:13:26',\n",
       "   'Finish': '2020-02-01T00:14:42',\n",
       "   'Resource': 'Job 10'}]}"
      ]
     },
     "execution_count": 4,
     "metadata": {},
     "output_type": "execute_result"
    }
   ],
   "source": [
    "schedule[0]"
   ]
  },
  {
   "cell_type": "code",
   "execution_count": 5,
   "metadata": {},
   "outputs": [
    {
     "data": {
      "application/vnd.plotly.v1+json": {
       "config": {
        "plotlyServerURL": "https://plot.ly"
       },
       "data": [
        {
         "fill": "toself",
         "fillcolor": "rgb(127, 127, 127)",
         "hoverinfo": "name",
         "legendgroup": "rgb(127, 127, 127)",
         "mode": "none",
         "name": "Job 7",
         "showlegend": true,
         "type": "scatter",
         "x": [
          "2020-02-01 0:02:46",
          "2020-02-01 0:03:23",
          "2020-02-01 0:03:23",
          "2020-02-01 0:02:46",
          "2020-02-01 0:02:46",
          "2020-02-01 0:01:47",
          "2020-02-01 0:02:33",
          "2020-02-01 0:02:33",
          "2020-02-01 0:01:47",
          "2020-02-01 0:01:47",
          "2020-02-01 0:05:45",
          "2020-02-01 0:05:58",
          "2020-02-01 0:05:58",
          "2020-02-01 0:05:45",
          "2020-02-01 0:05:45",
          "2020-02-01 0:03:23",
          "2020-02-01 0:04:24",
          "2020-02-01 0:04:24",
          "2020-02-01 0:03:23",
          "2020-02-01 0:03:23",
          "2020-02-01 0:10:16",
          "2020-02-01 0:11:11",
          "2020-02-01 0:11:11",
          "2020-02-01 0:10:16",
          "2020-02-01 0:10:16",
          "2020-02-01 0:06:30",
          "2020-02-01 0:06:51",
          "2020-02-01 0:06:51",
          "2020-02-01 0:06:30",
          "2020-02-01 0:06:30",
          "2020-02-01 0:05:58",
          "2020-02-01 0:06:30",
          "2020-02-01 0:06:30",
          "2020-02-01 0:05:58",
          "2020-02-01 0:05:58",
          "2020-02-01 0:08:52",
          "2020-02-01 0:09:22",
          "2020-02-01 0:09:22",
          "2020-02-01 0:08:52",
          "2020-02-01 0:08:52",
          "2020-02-01 0:07:23",
          "2020-02-01 0:08:52",
          "2020-02-01 0:08:52",
          "2020-02-01 0:07:23",
          "2020-02-01 0:07:23",
          "2020-02-01 0:06:51",
          "2020-02-01 0:07:23",
          "2020-02-01 0:07:23",
          "2020-02-01 0:06:51"
         ],
         "y": [
          8.8,
          8.8,
          9.2,
          9.2,
          null,
          7.8,
          7.8,
          8.2,
          8.2,
          null,
          6.8,
          6.8,
          7.2,
          7.2,
          null,
          5.8,
          5.8,
          6.2,
          6.2,
          null,
          4.8,
          4.8,
          5.2,
          5.2,
          null,
          3.8,
          3.8,
          4.2,
          4.2,
          null,
          2.8,
          2.8,
          3.2,
          3.2,
          null,
          1.8,
          1.8,
          2.2,
          2.2,
          null,
          0.8,
          0.8,
          1.2,
          1.2,
          null,
          -0.2,
          -0.2,
          0.2,
          0.2
         ]
        },
        {
         "fill": "toself",
         "fillcolor": "rgb(140, 86, 75)",
         "hoverinfo": "name",
         "legendgroup": "rgb(140, 86, 75)",
         "mode": "none",
         "name": "Job 5",
         "showlegend": true,
         "type": "scatter",
         "x": [
          "2020-02-01 0:02:40",
          "2020-02-01 0:02:46",
          "2020-02-01 0:02:46",
          "2020-02-01 0:02:40",
          "2020-02-01 0:02:40",
          "2020-02-01 0:03:54",
          "2020-02-01 0:04:16",
          "2020-02-01 0:04:16",
          "2020-02-01 0:03:54",
          "2020-02-01 0:03:54",
          "2020-02-01 0:00:31",
          "2020-02-01 0:00:45",
          "2020-02-01 0:00:45",
          "2020-02-01 0:00:31",
          "2020-02-01 0:00:31",
          "2020-02-01 0:05:17",
          "2020-02-01 0:05:43",
          "2020-02-01 0:05:43",
          "2020-02-01 0:05:17",
          "2020-02-01 0:05:17",
          "2020-02-01 0:05:43",
          "2020-02-01 0:06:52",
          "2020-02-01 0:06:52",
          "2020-02-01 0:05:43",
          "2020-02-01 0:05:43",
          "2020-02-01 0:04:16",
          "2020-02-01 0:05:17",
          "2020-02-01 0:05:17",
          "2020-02-01 0:04:16",
          "2020-02-01 0:04:16",
          "2020-02-01 0:11:58",
          "2020-02-01 0:12:51",
          "2020-02-01 0:12:51",
          "2020-02-01 0:11:58",
          "2020-02-01 0:11:58",
          "2020-02-01 0:09:22",
          "2020-02-01 0:10:11",
          "2020-02-01 0:10:11",
          "2020-02-01 0:09:22",
          "2020-02-01 0:09:22",
          "2020-02-01 0:08:52",
          "2020-02-01 0:09:13",
          "2020-02-01 0:09:13",
          "2020-02-01 0:08:52",
          "2020-02-01 0:08:52",
          "2020-02-01 0:10:35",
          "2020-02-01 0:11:47",
          "2020-02-01 0:11:47",
          "2020-02-01 0:10:35"
         ],
         "y": [
          8.8,
          8.8,
          9.2,
          9.2,
          null,
          7.8,
          7.8,
          8.2,
          8.2,
          null,
          6.8,
          6.8,
          7.2,
          7.2,
          null,
          5.8,
          5.8,
          6.2,
          6.2,
          null,
          4.8,
          4.8,
          5.2,
          5.2,
          null,
          3.8,
          3.8,
          4.2,
          4.2,
          null,
          2.8,
          2.8,
          3.2,
          3.2,
          null,
          1.8,
          1.8,
          2.2,
          2.2,
          null,
          0.8,
          0.8,
          1.2,
          1.2,
          null,
          -0.2,
          -0.2,
          0.2,
          0.2
         ]
        },
        {
         "fill": "toself",
         "fillcolor": "rgb(148, 103, 189)",
         "hoverinfo": "name",
         "legendgroup": "rgb(148, 103, 189)",
         "mode": "none",
         "name": "Job 4",
         "showlegend": true,
         "type": "scatter",
         "x": [
          "2020-02-01 0:05:45",
          "2020-02-01 0:06:56",
          "2020-02-01 0:06:56",
          "2020-02-01 0:05:45",
          "2020-02-01 0:05:45",
          "2020-02-01 0:02:33",
          "2020-02-01 0:03:54",
          "2020-02-01 0:03:54",
          "2020-02-01 0:02:33",
          "2020-02-01 0:02:33",
          "2020-02-01 0:04:10",
          "2020-02-01 0:05:45",
          "2020-02-01 0:05:45",
          "2020-02-01 0:04:10",
          "2020-02-01 0:04:10",
          "2020-02-01 0:12:42",
          "2020-02-01 0:14:20",
          "2020-02-01 0:14:20",
          "2020-02-01 0:12:42",
          "2020-02-01 0:12:42",
          "2020-02-01 0:08:37",
          "2020-02-01 0:10:16",
          "2020-02-01 0:10:16",
          "2020-02-01 0:08:37",
          "2020-02-01 0:08:37",
          "2020-02-01 0:16:54",
          "2020-02-01 0:17:37",
          "2020-02-01 0:17:37",
          "2020-02-01 0:16:54",
          "2020-02-01 0:16:54",
          "2020-02-01 0:10:16",
          "2020-02-01 0:10:25",
          "2020-02-01 0:10:25",
          "2020-02-01 0:10:16",
          "2020-02-01 0:10:16",
          "2020-02-01 0:11:17",
          "2020-02-01 0:12:42",
          "2020-02-01 0:12:42",
          "2020-02-01 0:11:17",
          "2020-02-01 0:11:17",
          "2020-02-01 0:10:25",
          "2020-02-01 0:11:17",
          "2020-02-01 0:11:17",
          "2020-02-01 0:10:25",
          "2020-02-01 0:10:25",
          "2020-02-01 0:16:32",
          "2020-02-01 0:16:54",
          "2020-02-01 0:16:54",
          "2020-02-01 0:16:32"
         ],
         "y": [
          8.8,
          8.8,
          9.2,
          9.2,
          null,
          7.8,
          7.8,
          8.2,
          8.2,
          null,
          6.8,
          6.8,
          7.2,
          7.2,
          null,
          5.8,
          5.8,
          6.2,
          6.2,
          null,
          4.8,
          4.8,
          5.2,
          5.2,
          null,
          3.8,
          3.8,
          4.2,
          4.2,
          null,
          2.8,
          2.8,
          3.2,
          3.2,
          null,
          1.8,
          1.8,
          2.2,
          2.2,
          null,
          0.8,
          0.8,
          1.2,
          1.2,
          null,
          -0.2,
          -0.2,
          0.2,
          0.2
         ]
        },
        {
         "fill": "toself",
         "fillcolor": "rgb(188, 189, 34)",
         "hoverinfo": "name",
         "legendgroup": "rgb(188, 189, 34)",
         "mode": "none",
         "name": "Job 8",
         "showlegend": true,
         "type": "scatter",
         "x": [
          "2020-02-01 0:00:31",
          "2020-02-01 0:01:57",
          "2020-02-01 0:01:57",
          "2020-02-01 0:00:31",
          "2020-02-01 0:00:31",
          "2020-02-01 0:05:48",
          "2020-02-01 0:06:34",
          "2020-02-01 0:06:34",
          "2020-02-01 0:05:48",
          "2020-02-01 0:05:48",
          "2020-02-01 0:00:00",
          "2020-02-01 0:00:31",
          "2020-02-01 0:00:31",
          "2020-02-01 0:00:00",
          "2020-02-01 0:00:00",
          "2020-02-01 0:17:08",
          "2020-02-01 0:18:27",
          "2020-02-01 0:18:27",
          "2020-02-01 0:17:08",
          "2020-02-01 0:17:08",
          "2020-02-01 0:08:05",
          "2020-02-01 0:08:37",
          "2020-02-01 0:08:37",
          "2020-02-01 0:08:05",
          "2020-02-01 0:08:05",
          "2020-02-01 0:06:51",
          "2020-02-01 0:08:05",
          "2020-02-01 0:08:05",
          "2020-02-01 0:06:51",
          "2020-02-01 0:06:51",
          "2020-02-01 0:08:37",
          "2020-02-01 0:10:05",
          "2020-02-01 0:10:05",
          "2020-02-01 0:08:37",
          "2020-02-01 0:08:37",
          "2020-02-01 0:16:32",
          "2020-02-01 0:17:08",
          "2020-02-01 0:17:08",
          "2020-02-01 0:16:32",
          "2020-02-01 0:16:32",
          "2020-02-01 0:15:25",
          "2020-02-01 0:15:44",
          "2020-02-01 0:15:44",
          "2020-02-01 0:15:25",
          "2020-02-01 0:15:25",
          "2020-02-01 0:15:44",
          "2020-02-01 0:16:32",
          "2020-02-01 0:16:32",
          "2020-02-01 0:15:44"
         ],
         "y": [
          8.8,
          8.8,
          9.2,
          9.2,
          null,
          7.8,
          7.8,
          8.2,
          8.2,
          null,
          6.8,
          6.8,
          7.2,
          7.2,
          null,
          5.8,
          5.8,
          6.2,
          6.2,
          null,
          4.8,
          4.8,
          5.2,
          5.2,
          null,
          3.8,
          3.8,
          4.2,
          4.2,
          null,
          2.8,
          2.8,
          3.2,
          3.2,
          null,
          1.8,
          1.8,
          2.2,
          2.2,
          null,
          0.8,
          0.8,
          1.2,
          1.2,
          null,
          -0.2,
          -0.2,
          0.2,
          0.2
         ]
        },
        {
         "fill": "toself",
         "fillcolor": "rgb(214, 39, 40)",
         "hoverinfo": "name",
         "legendgroup": "rgb(214, 39, 40)",
         "mode": "none",
         "name": "Job 3",
         "showlegend": true,
         "type": "scatter",
         "x": [
          "2020-02-01 0:08:51",
          "2020-02-01 0:10:16",
          "2020-02-01 0:10:16",
          "2020-02-01 0:08:51",
          "2020-02-01 0:08:51",
          "2020-02-01 0:07:20",
          "2020-02-01 0:08:51",
          "2020-02-01 0:08:51",
          "2020-02-01 0:07:20",
          "2020-02-01 0:07:20",
          "2020-02-01 0:12:41",
          "2020-02-01 0:13:55",
          "2020-02-01 0:13:55",
          "2020-02-01 0:12:41",
          "2020-02-01 0:12:41",
          "2020-02-01 0:12:02",
          "2020-02-01 0:12:41",
          "2020-02-01 0:12:41",
          "2020-02-01 0:12:02",
          "2020-02-01 0:12:02",
          "2020-02-01 0:18:03",
          "2020-02-01 0:18:36",
          "2020-02-01 0:18:36",
          "2020-02-01 0:18:03",
          "2020-02-01 0:18:03",
          "2020-02-01 0:15:29",
          "2020-02-01 0:15:39",
          "2020-02-01 0:15:39",
          "2020-02-01 0:15:29",
          "2020-02-01 0:15:29",
          "2020-02-01 0:15:49",
          "2020-02-01 0:17:18",
          "2020-02-01 0:17:18",
          "2020-02-01 0:15:49",
          "2020-02-01 0:15:49",
          "2020-02-01 0:15:39",
          "2020-02-01 0:15:49",
          "2020-02-01 0:15:49",
          "2020-02-01 0:15:39",
          "2020-02-01 0:15:39",
          "2020-02-01 0:13:55",
          "2020-02-01 0:15:25",
          "2020-02-01 0:15:25",
          "2020-02-01 0:13:55",
          "2020-02-01 0:13:55",
          "2020-02-01 0:17:18",
          "2020-02-01 0:18:03",
          "2020-02-01 0:18:03",
          "2020-02-01 0:17:18"
         ],
         "y": [
          8.8,
          8.8,
          9.2,
          9.2,
          null,
          7.8,
          7.8,
          8.2,
          8.2,
          null,
          6.8,
          6.8,
          7.2,
          7.2,
          null,
          5.8,
          5.8,
          6.2,
          6.2,
          null,
          4.8,
          4.8,
          5.2,
          5.2,
          null,
          3.8,
          3.8,
          4.2,
          4.2,
          null,
          2.8,
          2.8,
          3.2,
          3.2,
          null,
          1.8,
          1.8,
          2.2,
          2.2,
          null,
          0.8,
          0.8,
          1.2,
          1.2,
          null,
          -0.2,
          -0.2,
          0.2,
          0.2
         ]
        },
        {
         "fill": "toself",
         "fillcolor": "rgb(227, 119, 194)",
         "hoverinfo": "name",
         "legendgroup": "rgb(227, 119, 194)",
         "mode": "none",
         "name": "Job 6",
         "showlegend": true,
         "type": "scatter",
         "x": [
          "2020-02-01 0:13:26",
          "2020-02-01 0:14:13",
          "2020-02-01 0:14:13",
          "2020-02-01 0:13:26",
          "2020-02-01 0:13:26",
          "2020-02-01 0:04:16",
          "2020-02-01 0:04:18",
          "2020-02-01 0:04:18",
          "2020-02-01 0:04:16",
          "2020-02-01 0:04:16",
          "2020-02-01 0:00:45",
          "2020-02-01 0:02:09",
          "2020-02-01 0:02:09",
          "2020-02-01 0:00:45",
          "2020-02-01 0:00:45",
          "2020-02-01 0:09:51",
          "2020-02-01 0:11:26",
          "2020-02-01 0:11:26",
          "2020-02-01 0:09:51",
          "2020-02-01 0:09:51",
          "2020-02-01 0:18:36",
          "2020-02-01 0:18:42",
          "2020-02-01 0:18:42",
          "2020-02-01 0:18:36",
          "2020-02-01 0:18:36",
          "2020-02-01 0:08:59",
          "2020-02-01 0:09:51",
          "2020-02-01 0:09:51",
          "2020-02-01 0:08:59",
          "2020-02-01 0:08:59",
          "2020-02-01 0:17:18",
          "2020-02-01 0:18:23",
          "2020-02-01 0:18:23",
          "2020-02-01 0:17:18",
          "2020-02-01 0:17:18",
          "2020-02-01 0:18:49",
          "2020-02-01 0:19:14",
          "2020-02-01 0:19:14",
          "2020-02-01 0:18:49",
          "2020-02-01 0:18:49",
          "2020-02-01 0:11:26",
          "2020-02-01 0:12:14",
          "2020-02-01 0:12:14",
          "2020-02-01 0:11:26",
          "2020-02-01 0:11:26",
          "2020-02-01 0:12:14",
          "2020-02-01 0:13:26",
          "2020-02-01 0:13:26",
          "2020-02-01 0:12:14"
         ],
         "y": [
          8.8,
          8.8,
          9.2,
          9.2,
          null,
          7.8,
          7.8,
          8.2,
          8.2,
          null,
          6.8,
          6.8,
          7.2,
          7.2,
          null,
          5.8,
          5.8,
          6.2,
          6.2,
          null,
          4.8,
          4.8,
          5.2,
          5.2,
          null,
          3.8,
          3.8,
          4.2,
          4.2,
          null,
          2.8,
          2.8,
          3.2,
          3.2,
          null,
          1.8,
          1.8,
          2.2,
          2.2,
          null,
          0.8,
          0.8,
          1.2,
          1.2,
          null,
          -0.2,
          -0.2,
          0.2,
          0.2
         ]
        },
        {
         "fill": "toself",
         "fillcolor": "rgb(23, 190, 207)",
         "hoverinfo": "name",
         "legendgroup": "rgb(23, 190, 207)",
         "mode": "none",
         "name": "Job 9",
         "showlegend": true,
         "type": "scatter",
         "x": [
          "2020-02-01 0:03:23",
          "2020-02-01 0:04:39",
          "2020-02-01 0:04:39",
          "2020-02-01 0:03:23",
          "2020-02-01 0:03:23",
          "2020-02-01 0:04:39",
          "2020-02-01 0:05:48",
          "2020-02-01 0:05:48",
          "2020-02-01 0:04:39",
          "2020-02-01 0:04:39",
          "2020-02-01 0:08:59",
          "2020-02-01 0:10:24",
          "2020-02-01 0:10:24",
          "2020-02-01 0:08:59",
          "2020-02-01 0:08:59",
          "2020-02-01 0:06:52",
          "2020-02-01 0:08:08",
          "2020-02-01 0:08:08",
          "2020-02-01 0:06:52",
          "2020-02-01 0:06:52",
          "2020-02-01 0:14:11",
          "2020-02-01 0:14:37",
          "2020-02-01 0:14:37",
          "2020-02-01 0:14:11",
          "2020-02-01 0:14:11",
          "2020-02-01 0:08:08",
          "2020-02-01 0:08:59",
          "2020-02-01 0:08:59",
          "2020-02-01 0:08:08",
          "2020-02-01 0:08:08",
          "2020-02-01 0:11:11",
          "2020-02-01 0:11:51",
          "2020-02-01 0:11:51",
          "2020-02-01 0:11:11",
          "2020-02-01 0:11:11",
          "2020-02-01 0:12:42",
          "2020-02-01 0:14:11",
          "2020-02-01 0:14:11",
          "2020-02-01 0:12:42",
          "2020-02-01 0:12:42",
          "2020-02-01 0:16:14",
          "2020-02-01 0:17:28",
          "2020-02-01 0:17:28",
          "2020-02-01 0:16:14",
          "2020-02-01 0:16:14",
          "2020-02-01 0:10:24",
          "2020-02-01 0:10:35",
          "2020-02-01 0:10:35",
          "2020-02-01 0:10:24"
         ],
         "y": [
          8.8,
          8.8,
          9.2,
          9.2,
          null,
          7.8,
          7.8,
          8.2,
          8.2,
          null,
          6.8,
          6.8,
          7.2,
          7.2,
          null,
          5.8,
          5.8,
          6.2,
          6.2,
          null,
          4.8,
          4.8,
          5.2,
          5.2,
          null,
          3.8,
          3.8,
          4.2,
          4.2,
          null,
          2.8,
          2.8,
          3.2,
          3.2,
          null,
          1.8,
          1.8,
          2.2,
          2.2,
          null,
          0.8,
          0.8,
          1.2,
          1.2,
          null,
          -0.2,
          -0.2,
          0.2,
          0.2
         ]
        },
        {
         "fill": "toself",
         "fillcolor": "rgb(255, 127, 14)",
         "hoverinfo": "name",
         "legendgroup": "rgb(255, 127, 14)",
         "mode": "none",
         "name": "Job 10",
         "showlegend": true,
         "type": "scatter",
         "x": [
          "2020-02-01 0:10:16",
          "2020-02-01 0:10:29",
          "2020-02-01 0:10:29",
          "2020-02-01 0:10:16",
          "2020-02-01 0:10:16",
          "2020-02-01 0:08:51",
          "2020-02-01 0:10:16",
          "2020-02-01 0:10:16",
          "2020-02-01 0:08:51",
          "2020-02-01 0:08:51",
          "2020-02-01 0:10:33",
          "2020-02-01 0:11:34",
          "2020-02-01 0:11:34",
          "2020-02-01 0:10:33",
          "2020-02-01 0:10:33",
          "2020-02-01 0:15:29",
          "2020-02-01 0:16:21",
          "2020-02-01 0:16:21",
          "2020-02-01 0:15:29",
          "2020-02-01 0:15:29",
          "2020-02-01 0:16:21",
          "2020-02-01 0:17:51",
          "2020-02-01 0:17:51",
          "2020-02-01 0:16:21",
          "2020-02-01 0:16:21",
          "2020-02-01 0:14:42",
          "2020-02-01 0:15:29",
          "2020-02-01 0:15:29",
          "2020-02-01 0:14:42",
          "2020-02-01 0:14:42",
          "2020-02-01 0:11:51",
          "2020-02-01 0:11:58",
          "2020-02-01 0:11:58",
          "2020-02-01 0:11:51",
          "2020-02-01 0:11:51",
          "2020-02-01 0:18:04",
          "2020-02-01 0:18:49",
          "2020-02-01 0:18:49",
          "2020-02-01 0:18:04",
          "2020-02-01 0:18:04",
          "2020-02-01 0:12:14",
          "2020-02-01 0:13:18",
          "2020-02-01 0:13:18",
          "2020-02-01 0:12:14",
          "2020-02-01 0:12:14",
          "2020-02-01 0:13:26",
          "2020-02-01 0:14:42",
          "2020-02-01 0:14:42",
          "2020-02-01 0:13:26"
         ],
         "y": [
          8.8,
          8.8,
          9.2,
          9.2,
          null,
          7.8,
          7.8,
          8.2,
          8.2,
          null,
          6.8,
          6.8,
          7.2,
          7.2,
          null,
          5.8,
          5.8,
          6.2,
          6.2,
          null,
          4.8,
          4.8,
          5.2,
          5.2,
          null,
          3.8,
          3.8,
          4.2,
          4.2,
          null,
          2.8,
          2.8,
          3.2,
          3.2,
          null,
          1.8,
          1.8,
          2.2,
          2.2,
          null,
          0.8,
          0.8,
          1.2,
          1.2,
          null,
          -0.2,
          -0.2,
          0.2,
          0.2
         ]
        },
        {
         "fill": "toself",
         "fillcolor": "rgb(31, 119, 180)",
         "hoverinfo": "name",
         "legendgroup": "rgb(31, 119, 180)",
         "mode": "none",
         "name": "Job 1",
         "showlegend": true,
         "type": "scatter",
         "x": [
          "2020-02-01 0:00:00",
          "2020-02-01 0:00:29",
          "2020-02-01 0:00:29",
          "2020-02-01 0:00:00",
          "2020-02-01 0:00:00",
          "2020-02-01 0:00:29",
          "2020-02-01 0:01:47",
          "2020-02-01 0:01:47",
          "2020-02-01 0:00:29",
          "2020-02-01 0:00:29",
          "2020-02-01 0:10:24",
          "2020-02-01 0:10:33",
          "2020-02-01 0:10:33",
          "2020-02-01 0:10:24",
          "2020-02-01 0:10:24",
          "2020-02-01 0:11:26",
          "2020-02-01 0:12:02",
          "2020-02-01 0:12:02",
          "2020-02-01 0:11:26",
          "2020-02-01 0:11:26",
          "2020-02-01 0:12:02",
          "2020-02-01 0:12:51",
          "2020-02-01 0:12:51",
          "2020-02-01 0:12:02",
          "2020-02-01 0:12:02",
          "2020-02-01 0:12:51",
          "2020-02-01 0:13:02",
          "2020-02-01 0:13:02",
          "2020-02-01 0:12:51",
          "2020-02-01 0:12:51",
          "2020-02-01 0:13:02",
          "2020-02-01 0:14:04",
          "2020-02-01 0:14:04",
          "2020-02-01 0:13:02",
          "2020-02-01 0:13:02",
          "2020-02-01 0:17:08",
          "2020-02-01 0:18:04",
          "2020-02-01 0:18:04",
          "2020-02-01 0:17:08",
          "2020-02-01 0:17:08",
          "2020-02-01 0:18:04",
          "2020-02-01 0:18:48",
          "2020-02-01 0:18:48",
          "2020-02-01 0:18:04",
          "2020-02-01 0:18:04",
          "2020-02-01 0:18:48",
          "2020-02-01 0:19:09",
          "2020-02-01 0:19:09",
          "2020-02-01 0:18:48"
         ],
         "y": [
          8.8,
          8.8,
          9.2,
          9.2,
          null,
          7.8,
          7.8,
          8.2,
          8.2,
          null,
          6.8,
          6.8,
          7.2,
          7.2,
          null,
          5.8,
          5.8,
          6.2,
          6.2,
          null,
          4.8,
          4.8,
          5.2,
          5.2,
          null,
          3.8,
          3.8,
          4.2,
          4.2,
          null,
          2.8,
          2.8,
          3.2,
          3.2,
          null,
          1.8,
          1.8,
          2.2,
          2.2,
          null,
          0.8,
          0.8,
          1.2,
          1.2,
          null,
          -0.2,
          -0.2,
          0.2,
          0.2
         ]
        },
        {
         "fill": "toself",
         "fillcolor": "rgb(44, 160, 44)",
         "hoverinfo": "name",
         "legendgroup": "rgb(44, 160, 44)",
         "mode": "none",
         "name": "Job 2",
         "showlegend": true,
         "type": "scatter",
         "x": [
          "2020-02-01 0:01:57",
          "2020-02-01 0:02:40",
          "2020-02-01 0:02:40",
          "2020-02-01 0:01:57",
          "2020-02-01 0:01:57",
          "2020-02-01 0:06:52",
          "2020-02-01 0:07:20",
          "2020-02-01 0:07:20",
          "2020-02-01 0:06:52",
          "2020-02-01 0:06:52",
          "2020-02-01 0:02:40",
          "2020-02-01 0:04:10",
          "2020-02-01 0:04:10",
          "2020-02-01 0:02:40",
          "2020-02-01 0:02:40",
          "2020-02-01 0:05:43",
          "2020-02-01 0:06:52",
          "2020-02-01 0:06:52",
          "2020-02-01 0:05:43",
          "2020-02-01 0:05:43",
          "2020-02-01 0:04:10",
          "2020-02-01 0:05:25",
          "2020-02-01 0:05:25",
          "2020-02-01 0:04:10",
          "2020-02-01 0:04:10",
          "2020-02-01 0:11:11",
          "2020-02-01 0:11:57",
          "2020-02-01 0:11:57",
          "2020-02-01 0:11:11",
          "2020-02-01 0:11:11",
          "2020-02-01 0:10:25",
          "2020-02-01 0:11:11",
          "2020-02-01 0:11:11",
          "2020-02-01 0:10:25",
          "2020-02-01 0:10:25",
          "2020-02-01 0:14:11",
          "2020-02-01 0:15:23",
          "2020-02-01 0:15:23",
          "2020-02-01 0:14:11",
          "2020-02-01 0:14:11",
          "2020-02-01 0:15:44",
          "2020-02-01 0:16:14",
          "2020-02-01 0:16:14",
          "2020-02-01 0:15:44",
          "2020-02-01 0:15:44",
          "2020-02-01 0:05:25",
          "2020-02-01 0:05:36",
          "2020-02-01 0:05:36",
          "2020-02-01 0:05:25"
         ],
         "y": [
          8.8,
          8.8,
          9.2,
          9.2,
          null,
          7.8,
          7.8,
          8.2,
          8.2,
          null,
          6.8,
          6.8,
          7.2,
          7.2,
          null,
          5.8,
          5.8,
          6.2,
          6.2,
          null,
          4.8,
          4.8,
          5.2,
          5.2,
          null,
          3.8,
          3.8,
          4.2,
          4.2,
          null,
          2.8,
          2.8,
          3.2,
          3.2,
          null,
          1.8,
          1.8,
          2.2,
          2.2,
          null,
          0.8,
          0.8,
          1.2,
          1.2,
          null,
          -0.2,
          -0.2,
          0.2,
          0.2
         ]
        },
        {
         "legendgroup": "rgb(127, 127, 127)",
         "marker": {
          "color": "rgb(127, 127, 127)",
          "opacity": 0,
          "size": 1
         },
         "mode": "markers",
         "name": "",
         "showlegend": false,
         "text": [
          null,
          null,
          null,
          null,
          null,
          null,
          null,
          null,
          null,
          null,
          null,
          null,
          null,
          null,
          null,
          null,
          null,
          null,
          null,
          null
         ],
         "type": "scatter",
         "x": [
          "2020-02-01 0:02:46",
          "2020-02-01 0:03:23",
          "2020-02-01 0:01:47",
          "2020-02-01 0:02:33",
          "2020-02-01 0:05:45",
          "2020-02-01 0:05:58",
          "2020-02-01 0:03:23",
          "2020-02-01 0:04:24",
          "2020-02-01 0:10:16",
          "2020-02-01 0:11:11",
          "2020-02-01 0:06:30",
          "2020-02-01 0:06:51",
          "2020-02-01 0:05:58",
          "2020-02-01 0:06:30",
          "2020-02-01 0:08:52",
          "2020-02-01 0:09:22",
          "2020-02-01 0:07:23",
          "2020-02-01 0:08:52",
          "2020-02-01 0:06:51",
          "2020-02-01 0:07:23"
         ],
         "y": [
          9,
          9,
          8,
          8,
          7,
          7,
          6,
          6,
          5,
          5,
          4,
          4,
          3,
          3,
          2,
          2,
          1,
          1,
          0,
          0
         ]
        },
        {
         "legendgroup": "rgb(140, 86, 75)",
         "marker": {
          "color": "rgb(140, 86, 75)",
          "opacity": 0,
          "size": 1
         },
         "mode": "markers",
         "name": "",
         "showlegend": false,
         "text": [
          null,
          null,
          null,
          null,
          null,
          null,
          null,
          null,
          null,
          null,
          null,
          null,
          null,
          null,
          null,
          null,
          null,
          null,
          null,
          null
         ],
         "type": "scatter",
         "x": [
          "2020-02-01 0:02:40",
          "2020-02-01 0:02:46",
          "2020-02-01 0:03:54",
          "2020-02-01 0:04:16",
          "2020-02-01 0:00:31",
          "2020-02-01 0:00:45",
          "2020-02-01 0:05:17",
          "2020-02-01 0:05:43",
          "2020-02-01 0:05:43",
          "2020-02-01 0:06:52",
          "2020-02-01 0:04:16",
          "2020-02-01 0:05:17",
          "2020-02-01 0:11:58",
          "2020-02-01 0:12:51",
          "2020-02-01 0:09:22",
          "2020-02-01 0:10:11",
          "2020-02-01 0:08:52",
          "2020-02-01 0:09:13",
          "2020-02-01 0:10:35",
          "2020-02-01 0:11:47"
         ],
         "y": [
          9,
          9,
          8,
          8,
          7,
          7,
          6,
          6,
          5,
          5,
          4,
          4,
          3,
          3,
          2,
          2,
          1,
          1,
          0,
          0
         ]
        },
        {
         "legendgroup": "rgb(148, 103, 189)",
         "marker": {
          "color": "rgb(148, 103, 189)",
          "opacity": 0,
          "size": 1
         },
         "mode": "markers",
         "name": "",
         "showlegend": false,
         "text": [
          null,
          null,
          null,
          null,
          null,
          null,
          null,
          null,
          null,
          null,
          null,
          null,
          null,
          null,
          null,
          null,
          null,
          null,
          null,
          null
         ],
         "type": "scatter",
         "x": [
          "2020-02-01 0:05:45",
          "2020-02-01 0:06:56",
          "2020-02-01 0:02:33",
          "2020-02-01 0:03:54",
          "2020-02-01 0:04:10",
          "2020-02-01 0:05:45",
          "2020-02-01 0:12:42",
          "2020-02-01 0:14:20",
          "2020-02-01 0:08:37",
          "2020-02-01 0:10:16",
          "2020-02-01 0:16:54",
          "2020-02-01 0:17:37",
          "2020-02-01 0:10:16",
          "2020-02-01 0:10:25",
          "2020-02-01 0:11:17",
          "2020-02-01 0:12:42",
          "2020-02-01 0:10:25",
          "2020-02-01 0:11:17",
          "2020-02-01 0:16:32",
          "2020-02-01 0:16:54"
         ],
         "y": [
          9,
          9,
          8,
          8,
          7,
          7,
          6,
          6,
          5,
          5,
          4,
          4,
          3,
          3,
          2,
          2,
          1,
          1,
          0,
          0
         ]
        },
        {
         "legendgroup": "rgb(188, 189, 34)",
         "marker": {
          "color": "rgb(188, 189, 34)",
          "opacity": 0,
          "size": 1
         },
         "mode": "markers",
         "name": "",
         "showlegend": false,
         "text": [
          null,
          null,
          null,
          null,
          null,
          null,
          null,
          null,
          null,
          null,
          null,
          null,
          null,
          null,
          null,
          null,
          null,
          null,
          null,
          null
         ],
         "type": "scatter",
         "x": [
          "2020-02-01 0:00:31",
          "2020-02-01 0:01:57",
          "2020-02-01 0:05:48",
          "2020-02-01 0:06:34",
          "2020-02-01 0:00:00",
          "2020-02-01 0:00:31",
          "2020-02-01 0:17:08",
          "2020-02-01 0:18:27",
          "2020-02-01 0:08:05",
          "2020-02-01 0:08:37",
          "2020-02-01 0:06:51",
          "2020-02-01 0:08:05",
          "2020-02-01 0:08:37",
          "2020-02-01 0:10:05",
          "2020-02-01 0:16:32",
          "2020-02-01 0:17:08",
          "2020-02-01 0:15:25",
          "2020-02-01 0:15:44",
          "2020-02-01 0:15:44",
          "2020-02-01 0:16:32"
         ],
         "y": [
          9,
          9,
          8,
          8,
          7,
          7,
          6,
          6,
          5,
          5,
          4,
          4,
          3,
          3,
          2,
          2,
          1,
          1,
          0,
          0
         ]
        },
        {
         "legendgroup": "rgb(214, 39, 40)",
         "marker": {
          "color": "rgb(214, 39, 40)",
          "opacity": 0,
          "size": 1
         },
         "mode": "markers",
         "name": "",
         "showlegend": false,
         "text": [
          null,
          null,
          null,
          null,
          null,
          null,
          null,
          null,
          null,
          null,
          null,
          null,
          null,
          null,
          null,
          null,
          null,
          null,
          null,
          null
         ],
         "type": "scatter",
         "x": [
          "2020-02-01 0:08:51",
          "2020-02-01 0:10:16",
          "2020-02-01 0:07:20",
          "2020-02-01 0:08:51",
          "2020-02-01 0:12:41",
          "2020-02-01 0:13:55",
          "2020-02-01 0:12:02",
          "2020-02-01 0:12:41",
          "2020-02-01 0:18:03",
          "2020-02-01 0:18:36",
          "2020-02-01 0:15:29",
          "2020-02-01 0:15:39",
          "2020-02-01 0:15:49",
          "2020-02-01 0:17:18",
          "2020-02-01 0:15:39",
          "2020-02-01 0:15:49",
          "2020-02-01 0:13:55",
          "2020-02-01 0:15:25",
          "2020-02-01 0:17:18",
          "2020-02-01 0:18:03"
         ],
         "y": [
          9,
          9,
          8,
          8,
          7,
          7,
          6,
          6,
          5,
          5,
          4,
          4,
          3,
          3,
          2,
          2,
          1,
          1,
          0,
          0
         ]
        },
        {
         "legendgroup": "rgb(227, 119, 194)",
         "marker": {
          "color": "rgb(227, 119, 194)",
          "opacity": 0,
          "size": 1
         },
         "mode": "markers",
         "name": "",
         "showlegend": false,
         "text": [
          null,
          null,
          null,
          null,
          null,
          null,
          null,
          null,
          null,
          null,
          null,
          null,
          null,
          null,
          null,
          null,
          null,
          null,
          null,
          null
         ],
         "type": "scatter",
         "x": [
          "2020-02-01 0:13:26",
          "2020-02-01 0:14:13",
          "2020-02-01 0:04:16",
          "2020-02-01 0:04:18",
          "2020-02-01 0:00:45",
          "2020-02-01 0:02:09",
          "2020-02-01 0:09:51",
          "2020-02-01 0:11:26",
          "2020-02-01 0:18:36",
          "2020-02-01 0:18:42",
          "2020-02-01 0:08:59",
          "2020-02-01 0:09:51",
          "2020-02-01 0:17:18",
          "2020-02-01 0:18:23",
          "2020-02-01 0:18:49",
          "2020-02-01 0:19:14",
          "2020-02-01 0:11:26",
          "2020-02-01 0:12:14",
          "2020-02-01 0:12:14",
          "2020-02-01 0:13:26"
         ],
         "y": [
          9,
          9,
          8,
          8,
          7,
          7,
          6,
          6,
          5,
          5,
          4,
          4,
          3,
          3,
          2,
          2,
          1,
          1,
          0,
          0
         ]
        },
        {
         "legendgroup": "rgb(23, 190, 207)",
         "marker": {
          "color": "rgb(23, 190, 207)",
          "opacity": 0,
          "size": 1
         },
         "mode": "markers",
         "name": "",
         "showlegend": false,
         "text": [
          null,
          null,
          null,
          null,
          null,
          null,
          null,
          null,
          null,
          null,
          null,
          null,
          null,
          null,
          null,
          null,
          null,
          null,
          null,
          null
         ],
         "type": "scatter",
         "x": [
          "2020-02-01 0:03:23",
          "2020-02-01 0:04:39",
          "2020-02-01 0:04:39",
          "2020-02-01 0:05:48",
          "2020-02-01 0:08:59",
          "2020-02-01 0:10:24",
          "2020-02-01 0:06:52",
          "2020-02-01 0:08:08",
          "2020-02-01 0:14:11",
          "2020-02-01 0:14:37",
          "2020-02-01 0:08:08",
          "2020-02-01 0:08:59",
          "2020-02-01 0:11:11",
          "2020-02-01 0:11:51",
          "2020-02-01 0:12:42",
          "2020-02-01 0:14:11",
          "2020-02-01 0:16:14",
          "2020-02-01 0:17:28",
          "2020-02-01 0:10:24",
          "2020-02-01 0:10:35"
         ],
         "y": [
          9,
          9,
          8,
          8,
          7,
          7,
          6,
          6,
          5,
          5,
          4,
          4,
          3,
          3,
          2,
          2,
          1,
          1,
          0,
          0
         ]
        },
        {
         "legendgroup": "rgb(255, 127, 14)",
         "marker": {
          "color": "rgb(255, 127, 14)",
          "opacity": 0,
          "size": 1
         },
         "mode": "markers",
         "name": "",
         "showlegend": false,
         "text": [
          null,
          null,
          null,
          null,
          null,
          null,
          null,
          null,
          null,
          null,
          null,
          null,
          null,
          null,
          null,
          null,
          null,
          null,
          null,
          null
         ],
         "type": "scatter",
         "x": [
          "2020-02-01 0:10:16",
          "2020-02-01 0:10:29",
          "2020-02-01 0:08:51",
          "2020-02-01 0:10:16",
          "2020-02-01 0:10:33",
          "2020-02-01 0:11:34",
          "2020-02-01 0:15:29",
          "2020-02-01 0:16:21",
          "2020-02-01 0:16:21",
          "2020-02-01 0:17:51",
          "2020-02-01 0:14:42",
          "2020-02-01 0:15:29",
          "2020-02-01 0:11:51",
          "2020-02-01 0:11:58",
          "2020-02-01 0:18:04",
          "2020-02-01 0:18:49",
          "2020-02-01 0:12:14",
          "2020-02-01 0:13:18",
          "2020-02-01 0:13:26",
          "2020-02-01 0:14:42"
         ],
         "y": [
          9,
          9,
          8,
          8,
          7,
          7,
          6,
          6,
          5,
          5,
          4,
          4,
          3,
          3,
          2,
          2,
          1,
          1,
          0,
          0
         ]
        },
        {
         "legendgroup": "rgb(31, 119, 180)",
         "marker": {
          "color": "rgb(31, 119, 180)",
          "opacity": 0,
          "size": 1
         },
         "mode": "markers",
         "name": "",
         "showlegend": false,
         "text": [
          null,
          null,
          null,
          null,
          null,
          null,
          null,
          null,
          null,
          null,
          null,
          null,
          null,
          null,
          null,
          null,
          null,
          null,
          null,
          null
         ],
         "type": "scatter",
         "x": [
          "2020-02-01 0:00:00",
          "2020-02-01 0:00:29",
          "2020-02-01 0:00:29",
          "2020-02-01 0:01:47",
          "2020-02-01 0:10:24",
          "2020-02-01 0:10:33",
          "2020-02-01 0:11:26",
          "2020-02-01 0:12:02",
          "2020-02-01 0:12:02",
          "2020-02-01 0:12:51",
          "2020-02-01 0:12:51",
          "2020-02-01 0:13:02",
          "2020-02-01 0:13:02",
          "2020-02-01 0:14:04",
          "2020-02-01 0:17:08",
          "2020-02-01 0:18:04",
          "2020-02-01 0:18:04",
          "2020-02-01 0:18:48",
          "2020-02-01 0:18:48",
          "2020-02-01 0:19:09"
         ],
         "y": [
          9,
          9,
          8,
          8,
          7,
          7,
          6,
          6,
          5,
          5,
          4,
          4,
          3,
          3,
          2,
          2,
          1,
          1,
          0,
          0
         ]
        },
        {
         "legendgroup": "rgb(44, 160, 44)",
         "marker": {
          "color": "rgb(44, 160, 44)",
          "opacity": 0,
          "size": 1
         },
         "mode": "markers",
         "name": "",
         "showlegend": false,
         "text": [
          null,
          null,
          null,
          null,
          null,
          null,
          null,
          null,
          null,
          null,
          null,
          null,
          null,
          null,
          null,
          null,
          null,
          null,
          null,
          null
         ],
         "type": "scatter",
         "x": [
          "2020-02-01 0:01:57",
          "2020-02-01 0:02:40",
          "2020-02-01 0:06:52",
          "2020-02-01 0:07:20",
          "2020-02-01 0:02:40",
          "2020-02-01 0:04:10",
          "2020-02-01 0:05:43",
          "2020-02-01 0:06:52",
          "2020-02-01 0:04:10",
          "2020-02-01 0:05:25",
          "2020-02-01 0:11:11",
          "2020-02-01 0:11:57",
          "2020-02-01 0:10:25",
          "2020-02-01 0:11:11",
          "2020-02-01 0:14:11",
          "2020-02-01 0:15:23",
          "2020-02-01 0:15:44",
          "2020-02-01 0:16:14",
          "2020-02-01 0:05:25",
          "2020-02-01 0:05:36"
         ],
         "y": [
          9,
          9,
          8,
          8,
          7,
          7,
          6,
          6,
          5,
          5,
          4,
          4,
          3,
          3,
          2,
          2,
          1,
          1,
          0,
          0
         ]
        }
       ],
       "layout": {
        "height": 600,
        "hovermode": "closest",
        "showlegend": true,
        "template": {
         "data": {
          "bar": [
           {
            "error_x": {
             "color": "#2a3f5f"
            },
            "error_y": {
             "color": "#2a3f5f"
            },
            "marker": {
             "line": {
              "color": "#E5ECF6",
              "width": 0.5
             },
             "pattern": {
              "fillmode": "overlay",
              "size": 10,
              "solidity": 0.2
             }
            },
            "type": "bar"
           }
          ],
          "barpolar": [
           {
            "marker": {
             "line": {
              "color": "#E5ECF6",
              "width": 0.5
             },
             "pattern": {
              "fillmode": "overlay",
              "size": 10,
              "solidity": 0.2
             }
            },
            "type": "barpolar"
           }
          ],
          "carpet": [
           {
            "aaxis": {
             "endlinecolor": "#2a3f5f",
             "gridcolor": "white",
             "linecolor": "white",
             "minorgridcolor": "white",
             "startlinecolor": "#2a3f5f"
            },
            "baxis": {
             "endlinecolor": "#2a3f5f",
             "gridcolor": "white",
             "linecolor": "white",
             "minorgridcolor": "white",
             "startlinecolor": "#2a3f5f"
            },
            "type": "carpet"
           }
          ],
          "choropleth": [
           {
            "colorbar": {
             "outlinewidth": 0,
             "ticks": ""
            },
            "type": "choropleth"
           }
          ],
          "contour": [
           {
            "colorbar": {
             "outlinewidth": 0,
             "ticks": ""
            },
            "colorscale": [
             [
              0,
              "#0d0887"
             ],
             [
              0.1111111111111111,
              "#46039f"
             ],
             [
              0.2222222222222222,
              "#7201a8"
             ],
             [
              0.3333333333333333,
              "#9c179e"
             ],
             [
              0.4444444444444444,
              "#bd3786"
             ],
             [
              0.5555555555555556,
              "#d8576b"
             ],
             [
              0.6666666666666666,
              "#ed7953"
             ],
             [
              0.7777777777777778,
              "#fb9f3a"
             ],
             [
              0.8888888888888888,
              "#fdca26"
             ],
             [
              1,
              "#f0f921"
             ]
            ],
            "type": "contour"
           }
          ],
          "contourcarpet": [
           {
            "colorbar": {
             "outlinewidth": 0,
             "ticks": ""
            },
            "type": "contourcarpet"
           }
          ],
          "heatmap": [
           {
            "colorbar": {
             "outlinewidth": 0,
             "ticks": ""
            },
            "colorscale": [
             [
              0,
              "#0d0887"
             ],
             [
              0.1111111111111111,
              "#46039f"
             ],
             [
              0.2222222222222222,
              "#7201a8"
             ],
             [
              0.3333333333333333,
              "#9c179e"
             ],
             [
              0.4444444444444444,
              "#bd3786"
             ],
             [
              0.5555555555555556,
              "#d8576b"
             ],
             [
              0.6666666666666666,
              "#ed7953"
             ],
             [
              0.7777777777777778,
              "#fb9f3a"
             ],
             [
              0.8888888888888888,
              "#fdca26"
             ],
             [
              1,
              "#f0f921"
             ]
            ],
            "type": "heatmap"
           }
          ],
          "heatmapgl": [
           {
            "colorbar": {
             "outlinewidth": 0,
             "ticks": ""
            },
            "colorscale": [
             [
              0,
              "#0d0887"
             ],
             [
              0.1111111111111111,
              "#46039f"
             ],
             [
              0.2222222222222222,
              "#7201a8"
             ],
             [
              0.3333333333333333,
              "#9c179e"
             ],
             [
              0.4444444444444444,
              "#bd3786"
             ],
             [
              0.5555555555555556,
              "#d8576b"
             ],
             [
              0.6666666666666666,
              "#ed7953"
             ],
             [
              0.7777777777777778,
              "#fb9f3a"
             ],
             [
              0.8888888888888888,
              "#fdca26"
             ],
             [
              1,
              "#f0f921"
             ]
            ],
            "type": "heatmapgl"
           }
          ],
          "histogram": [
           {
            "marker": {
             "pattern": {
              "fillmode": "overlay",
              "size": 10,
              "solidity": 0.2
             }
            },
            "type": "histogram"
           }
          ],
          "histogram2d": [
           {
            "colorbar": {
             "outlinewidth": 0,
             "ticks": ""
            },
            "colorscale": [
             [
              0,
              "#0d0887"
             ],
             [
              0.1111111111111111,
              "#46039f"
             ],
             [
              0.2222222222222222,
              "#7201a8"
             ],
             [
              0.3333333333333333,
              "#9c179e"
             ],
             [
              0.4444444444444444,
              "#bd3786"
             ],
             [
              0.5555555555555556,
              "#d8576b"
             ],
             [
              0.6666666666666666,
              "#ed7953"
             ],
             [
              0.7777777777777778,
              "#fb9f3a"
             ],
             [
              0.8888888888888888,
              "#fdca26"
             ],
             [
              1,
              "#f0f921"
             ]
            ],
            "type": "histogram2d"
           }
          ],
          "histogram2dcontour": [
           {
            "colorbar": {
             "outlinewidth": 0,
             "ticks": ""
            },
            "colorscale": [
             [
              0,
              "#0d0887"
             ],
             [
              0.1111111111111111,
              "#46039f"
             ],
             [
              0.2222222222222222,
              "#7201a8"
             ],
             [
              0.3333333333333333,
              "#9c179e"
             ],
             [
              0.4444444444444444,
              "#bd3786"
             ],
             [
              0.5555555555555556,
              "#d8576b"
             ],
             [
              0.6666666666666666,
              "#ed7953"
             ],
             [
              0.7777777777777778,
              "#fb9f3a"
             ],
             [
              0.8888888888888888,
              "#fdca26"
             ],
             [
              1,
              "#f0f921"
             ]
            ],
            "type": "histogram2dcontour"
           }
          ],
          "mesh3d": [
           {
            "colorbar": {
             "outlinewidth": 0,
             "ticks": ""
            },
            "type": "mesh3d"
           }
          ],
          "parcoords": [
           {
            "line": {
             "colorbar": {
              "outlinewidth": 0,
              "ticks": ""
             }
            },
            "type": "parcoords"
           }
          ],
          "pie": [
           {
            "automargin": true,
            "type": "pie"
           }
          ],
          "scatter": [
           {
            "marker": {
             "colorbar": {
              "outlinewidth": 0,
              "ticks": ""
             }
            },
            "type": "scatter"
           }
          ],
          "scatter3d": [
           {
            "line": {
             "colorbar": {
              "outlinewidth": 0,
              "ticks": ""
             }
            },
            "marker": {
             "colorbar": {
              "outlinewidth": 0,
              "ticks": ""
             }
            },
            "type": "scatter3d"
           }
          ],
          "scattercarpet": [
           {
            "marker": {
             "colorbar": {
              "outlinewidth": 0,
              "ticks": ""
             }
            },
            "type": "scattercarpet"
           }
          ],
          "scattergeo": [
           {
            "marker": {
             "colorbar": {
              "outlinewidth": 0,
              "ticks": ""
             }
            },
            "type": "scattergeo"
           }
          ],
          "scattergl": [
           {
            "marker": {
             "colorbar": {
              "outlinewidth": 0,
              "ticks": ""
             }
            },
            "type": "scattergl"
           }
          ],
          "scattermapbox": [
           {
            "marker": {
             "colorbar": {
              "outlinewidth": 0,
              "ticks": ""
             }
            },
            "type": "scattermapbox"
           }
          ],
          "scatterpolar": [
           {
            "marker": {
             "colorbar": {
              "outlinewidth": 0,
              "ticks": ""
             }
            },
            "type": "scatterpolar"
           }
          ],
          "scatterpolargl": [
           {
            "marker": {
             "colorbar": {
              "outlinewidth": 0,
              "ticks": ""
             }
            },
            "type": "scatterpolargl"
           }
          ],
          "scatterternary": [
           {
            "marker": {
             "colorbar": {
              "outlinewidth": 0,
              "ticks": ""
             }
            },
            "type": "scatterternary"
           }
          ],
          "surface": [
           {
            "colorbar": {
             "outlinewidth": 0,
             "ticks": ""
            },
            "colorscale": [
             [
              0,
              "#0d0887"
             ],
             [
              0.1111111111111111,
              "#46039f"
             ],
             [
              0.2222222222222222,
              "#7201a8"
             ],
             [
              0.3333333333333333,
              "#9c179e"
             ],
             [
              0.4444444444444444,
              "#bd3786"
             ],
             [
              0.5555555555555556,
              "#d8576b"
             ],
             [
              0.6666666666666666,
              "#ed7953"
             ],
             [
              0.7777777777777778,
              "#fb9f3a"
             ],
             [
              0.8888888888888888,
              "#fdca26"
             ],
             [
              1,
              "#f0f921"
             ]
            ],
            "type": "surface"
           }
          ],
          "table": [
           {
            "cells": {
             "fill": {
              "color": "#EBF0F8"
             },
             "line": {
              "color": "white"
             }
            },
            "header": {
             "fill": {
              "color": "#C8D4E3"
             },
             "line": {
              "color": "white"
             }
            },
            "type": "table"
           }
          ]
         },
         "layout": {
          "annotationdefaults": {
           "arrowcolor": "#2a3f5f",
           "arrowhead": 0,
           "arrowwidth": 1
          },
          "autotypenumbers": "strict",
          "coloraxis": {
           "colorbar": {
            "outlinewidth": 0,
            "ticks": ""
           }
          },
          "colorscale": {
           "diverging": [
            [
             0,
             "#8e0152"
            ],
            [
             0.1,
             "#c51b7d"
            ],
            [
             0.2,
             "#de77ae"
            ],
            [
             0.3,
             "#f1b6da"
            ],
            [
             0.4,
             "#fde0ef"
            ],
            [
             0.5,
             "#f7f7f7"
            ],
            [
             0.6,
             "#e6f5d0"
            ],
            [
             0.7,
             "#b8e186"
            ],
            [
             0.8,
             "#7fbc41"
            ],
            [
             0.9,
             "#4d9221"
            ],
            [
             1,
             "#276419"
            ]
           ],
           "sequential": [
            [
             0,
             "#0d0887"
            ],
            [
             0.1111111111111111,
             "#46039f"
            ],
            [
             0.2222222222222222,
             "#7201a8"
            ],
            [
             0.3333333333333333,
             "#9c179e"
            ],
            [
             0.4444444444444444,
             "#bd3786"
            ],
            [
             0.5555555555555556,
             "#d8576b"
            ],
            [
             0.6666666666666666,
             "#ed7953"
            ],
            [
             0.7777777777777778,
             "#fb9f3a"
            ],
            [
             0.8888888888888888,
             "#fdca26"
            ],
            [
             1,
             "#f0f921"
            ]
           ],
           "sequentialminus": [
            [
             0,
             "#0d0887"
            ],
            [
             0.1111111111111111,
             "#46039f"
            ],
            [
             0.2222222222222222,
             "#7201a8"
            ],
            [
             0.3333333333333333,
             "#9c179e"
            ],
            [
             0.4444444444444444,
             "#bd3786"
            ],
            [
             0.5555555555555556,
             "#d8576b"
            ],
            [
             0.6666666666666666,
             "#ed7953"
            ],
            [
             0.7777777777777778,
             "#fb9f3a"
            ],
            [
             0.8888888888888888,
             "#fdca26"
            ],
            [
             1,
             "#f0f921"
            ]
           ]
          },
          "colorway": [
           "#636efa",
           "#EF553B",
           "#00cc96",
           "#ab63fa",
           "#FFA15A",
           "#19d3f3",
           "#FF6692",
           "#B6E880",
           "#FF97FF",
           "#FECB52"
          ],
          "font": {
           "color": "#2a3f5f"
          },
          "geo": {
           "bgcolor": "white",
           "lakecolor": "white",
           "landcolor": "#E5ECF6",
           "showlakes": true,
           "showland": true,
           "subunitcolor": "white"
          },
          "hoverlabel": {
           "align": "left"
          },
          "hovermode": "closest",
          "mapbox": {
           "style": "light"
          },
          "paper_bgcolor": "white",
          "plot_bgcolor": "#E5ECF6",
          "polar": {
           "angularaxis": {
            "gridcolor": "white",
            "linecolor": "white",
            "ticks": ""
           },
           "bgcolor": "#E5ECF6",
           "radialaxis": {
            "gridcolor": "white",
            "linecolor": "white",
            "ticks": ""
           }
          },
          "scene": {
           "xaxis": {
            "backgroundcolor": "#E5ECF6",
            "gridcolor": "white",
            "gridwidth": 2,
            "linecolor": "white",
            "showbackground": true,
            "ticks": "",
            "zerolinecolor": "white"
           },
           "yaxis": {
            "backgroundcolor": "#E5ECF6",
            "gridcolor": "white",
            "gridwidth": 2,
            "linecolor": "white",
            "showbackground": true,
            "ticks": "",
            "zerolinecolor": "white"
           },
           "zaxis": {
            "backgroundcolor": "#E5ECF6",
            "gridcolor": "white",
            "gridwidth": 2,
            "linecolor": "white",
            "showbackground": true,
            "ticks": "",
            "zerolinecolor": "white"
           }
          },
          "shapedefaults": {
           "line": {
            "color": "#2a3f5f"
           }
          },
          "ternary": {
           "aaxis": {
            "gridcolor": "white",
            "linecolor": "white",
            "ticks": ""
           },
           "baxis": {
            "gridcolor": "white",
            "linecolor": "white",
            "ticks": ""
           },
           "bgcolor": "#E5ECF6",
           "caxis": {
            "gridcolor": "white",
            "linecolor": "white",
            "ticks": ""
           }
          },
          "title": {
           "x": 0.05
          },
          "xaxis": {
           "automargin": true,
           "gridcolor": "white",
           "linecolor": "white",
           "ticks": "",
           "title": {
            "standoff": 15
           },
           "zerolinecolor": "white",
           "zerolinewidth": 2
          },
          "yaxis": {
           "automargin": true,
           "gridcolor": "white",
           "linecolor": "white",
           "ticks": "",
           "title": {
            "standoff": 15
           },
           "zerolinecolor": "white",
           "zerolinewidth": 2
          }
         }
        },
        "title": {
         "text": "Job shop Schedule"
        },
        "xaxis": {
         "rangeselector": {
          "buttons": [
           {
            "count": 7,
            "label": "1w",
            "step": "day",
            "stepmode": "backward"
           },
           {
            "count": 1,
            "label": "1m",
            "step": "month",
            "stepmode": "backward"
           },
           {
            "count": 6,
            "label": "6m",
            "step": "month",
            "stepmode": "backward"
           },
           {
            "count": 1,
            "label": "YTD",
            "step": "year",
            "stepmode": "todate"
           },
           {
            "count": 1,
            "label": "1y",
            "step": "year",
            "stepmode": "backward"
           },
           {
            "step": "all"
           }
          ]
         },
         "showgrid": true,
         "type": "date",
         "zeroline": false
        },
        "yaxis": {
         "autorange": false,
         "range": [
          -1,
          11
         ],
         "showgrid": false,
         "ticktext": [
          "Machine 10",
          "Machine 9",
          "Machine 8",
          "Machine 7",
          "Machine 6",
          "Machine 5",
          "Machine 4",
          "Machine 3",
          "Machine 2",
          "Machine 1"
         ],
         "tickvals": [
          0,
          1,
          2,
          3,
          4,
          5,
          6,
          7,
          8,
          9
         ],
         "zeroline": false
        }
       }
      }
     },
     "metadata": {},
     "output_type": "display_data"
    }
   ],
   "source": [
    "import chart_studio.plotly as py\n",
    "import plotly.figure_factory as ff\n",
    "\n",
    "df = schedule[1]\n",
    "fig = ff.create_gantt(df, index_col='Resource', show_colorbar=True, group_tasks=True, showgrid_x=True, title='Job shop Schedule')\n",
    "fig.show()"
   ]
  }
 ],
 "metadata": {
  "file_extension": ".py",
  "kernelspec": {
   "display_name": "Python 3.8.10 64-bit",
   "language": "python",
   "name": "python3"
  },
  "language_info": {
   "codemirror_mode": {
    "name": "ipython",
    "version": 3
   },
   "file_extension": ".py",
   "mimetype": "text/x-python",
   "name": "python",
   "nbconvert_exporter": "python",
   "pygments_lexer": "ipython3",
   "version": "3.8.10"
  },
  "mimetype": "text/x-python",
  "name": "python",
  "npconvert_exporter": "python",
  "orig_nbformat": 2,
  "pygments_lexer": "ipython3",
  "version": 3,
  "vscode": {
   "interpreter": {
    "hash": "0adcc2737ebf6a4a119f135174df96668767fca1ef1112612db5ecadf2b6d608"
   }
  }
 },
 "nbformat": 4,
 "nbformat_minor": 2
}
